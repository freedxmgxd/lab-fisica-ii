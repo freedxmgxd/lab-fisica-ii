{
 "cells": [
  {
   "cell_type": "markdown",
   "metadata": {},
   "source": [
    "# Balança de corrente\n",
    "\n",
    "A força magnética é uma força que surge ao termos particulas carregadas movimentando em um campo magnético de maneira a que sua velocidade não seja paralela á direção do campo, descripa por\n",
    "\n",
    "$$ \\vec{F_m} = q\\vec{v} \\times \\vec{B}$$\n",
    "\n",
    "Para analise quantitativa da força é preciso modelar o fio condutor como um cilindro de comprimento L pela seção transversal A, onde as cargas se movimentam com a velocidade $\\vec{v_d}$, então para a força total exercidas temos,\n",
    "\n",
    "$$ \\vec{F_B} = \\left(q\\vec{v_d} \\times \\vec{B}\\right) nAL$$\n",
    "\n",
    "onde nAL é o número de cargas por unidade de volume do condutor.\n",
    "\n",
    "Ao representarmos a corrente por\n",
    "\n",
    "$$ I= nqv_dA$$\n",
    "\n",
    "temos que \n",
    "\n",
    "$$ \\vec{F_B} = I\\vec{L} \\times \\vec{B}$$\n",
    "\n",
    "onde $vec{L}$ é corresponde ao vetor na direção de $\\vec{v_d}$ e modulo igual ao comprimento do fio. Importante notar que essa equação corresponde apenas a aproximação adotada de um condutor reto, em um campo magnético uniforme."
   ]
  },
  {
   "cell_type": "markdown",
   "metadata": {},
   "source": [
    "## Primeiro passo: carregando módulos do Python 3\n",
    "\n",
    "Neste ponto você já sabe do _minimum minimorum_ de python para saber que ele tem seu desempenho melhorado significativamente com o uso dos módulos (_modules_) que nada mais são do que bibliotecas desenvolvidas pela comunidade de usuários e desenvolvedores do python. Eles tem em geral propósitos específicos para facilitar a resolução de classes de problemas bem definidos.\n",
    "Alguns dos módulos que usaremos são o [pandas](https://pandas.pydata.org/), [numpy](https://numpy.org/), [matplotlib](https://matplotlib.org/), [scipy](https://www.scipy.org/), [sklearn](https://scikit-learn.org/stable/) e [sympy](https://www.sympy.org/en/index.html). \n",
    "\n",
    "A importação de módulos não é como acontece com a importação de _header files_ em programas em C/C++, que precisam ser declaradas logo no início do programa. No caso do python pode-se importar o módulo apenas no ponto do programa a partir do qual precisaremos dele. Então aqui iremos importar alguns que serão frequentemente usados."
   ]
  },
  {
   "cell_type": "code",
   "execution_count": 217,
   "metadata": {},
   "outputs": [],
   "source": [
    "import pandas as pd\n",
    "import numpy as np\n",
    "import matplotlib\n",
    "from matplotlib import pyplot as plt\n",
    "import statsmodels.api as sm\n",
    "%matplotlib inline "
   ]
  },
  {
   "cell_type": "markdown",
   "metadata": {},
   "source": [
    "# Metodo 1\n"
   ]
  },
  {
   "cell_type": "markdown",
   "metadata": {},
   "source": [
    "## Segundo passo: introduzindo os dados experimentais\n",
    "\n",
    "\n"
   ]
  },
  {
   "cell_type": "markdown",
   "metadata": {},
   "source": [
    "**ATENÇÃO**: <font color='blue'>neste método é necessário ter um arquivo do tipo CSV para cada conjunto de dados!!</font>"
   ]
  },
  {
   "cell_type": "code",
   "execution_count": 218,
   "metadata": {},
   "outputs": [],
   "source": [
    "def calc_uncertainty(value, decimal_places=4, percent_error=0.002, D_factor=5.0):\n",
    "    \n",
    "    percent_error_i = abs(value * percent_error)\n",
    "    digit_error = abs(D_factor * (10**(-decimal_places))) # 5 digits of last decimal place\n",
    "    return percent_error_i + digit_error\n",
    "\n",
    "rho =[]\n",
    "s_rho = []"
   ]
  },
  {
   "cell_type": "code",
   "execution_count": 219,
   "metadata": {},
   "outputs": [
    {
     "name": "stdout",
     "output_type": "stream",
     "text": [
      "    Corrente  massa\n",
      "0      0.000   0.00\n",
      "1      0.353   0.65\n",
      "2      0.600   1.09\n",
      "3      0.925   1.68\n",
      "4      1.231   2.21\n",
      "5      1.536   2.78\n",
      "6      1.847   3.35\n",
      "7      2.107   3.82\n",
      "8      2.409   4.38\n",
      "9      2.780   5.07\n",
      "10     3.023   5.50\n",
      "11     3.134   5.72\n",
      "0.0 +- 0.004\n",
      "0.353 +- 0.004\n",
      "0.6 +- 0.004\n",
      "0.925 +- 0.004\n",
      "1.231 +- 0.004\n",
      "1.536 +- 0.004\n",
      "1.847 +- 0.004\n",
      "2.107 +- 0.004\n",
      "2.409 +- 0.004\n",
      "2.78 +- 0.004\n",
      "3.023 +- 0.004\n",
      "3.134 +- 0.004\n",
      "\n",
      "0.0 +- 1e-05\n",
      "0.0006500000000000001 +- 1e-05\n",
      "0.00109 +- 1e-05\n",
      "0.00168 +- 1e-05\n",
      "0.00221 +- 1e-05\n",
      "0.00278 +- 1e-05\n",
      "0.00335 +- 1e-05\n",
      "0.00382 +- 1e-05\n",
      "0.00438 +- 1e-05\n",
      "0.005070000000000001 +- 1e-05\n",
      "0.0055 +- 1e-05\n",
      "0.00572 +- 1e-05\n"
     ]
    }
   ],
   "source": [
    "#vc precisa de um arquivo .csv para cada conjunto de dados\n",
    "dados = pd.read_csv(\"metodo1.csv\")\n",
    "print(dados)\n",
    "\n",
    "x = dados['Corrente']\n",
    "y = dados['massa'] * 1e-3# Convert to kg\n",
    "incx = np.full_like(x, 0.004, dtype=float)\n",
    "incy = np.full_like(y, 0.01 * 1e-3, dtype=float) # Convert to kg\n",
    "\n",
    "# Format and print x with uncertainties\n",
    "for xi, incxi in zip(x, incx):\n",
    "    print(f\"{xi} +- {incxi}\")\n",
    "\n",
    "\n",
    "print(\"\")\n",
    "# Format and print y with uncertainties\n",
    "for yi, incyi in zip(y, incy):\n",
    "    print(f\"{yi} +- {incyi}\")\n",
    "\n"
   ]
  },
  {
   "cell_type": "markdown",
   "metadata": {},
   "source": [
    "Podemos inicialmente colocar os dados num gráfico para fazer uma primeira visualização exploratória. Para isso usamos o _pyplot_ do _matplotlib_ para graficar os pontos com suas respectivas barras de erro."
   ]
  },
  {
   "cell_type": "code",
   "execution_count": 220,
   "metadata": {},
   "outputs": [
    {
     "data": {
      "image/png": "[encoded data removed]",
      "text/plain": [
       "<Figure size 640x480 with 1 Axes>"
      ]
     },
     "metadata": {},
     "output_type": "display_data"
    },
    {
     "data": {
      "text/plain": [
       "pandas.core.frame.DataFrame"
      ]
     },
     "execution_count": 220,
     "metadata": {},
     "output_type": "execute_result"
    }
   ],
   "source": [
    "# visualizando os dados pelo gráfico\n",
    "\n",
    "plt.figure() \n",
    "plt.errorbar(x, y, incy, incx,'og')\n",
    "plt.title(\"Visualização\")\n",
    "plt.xlabel(\"Corrente (A)\")\n",
    "plt.ylabel(\"Massa (g)\")\n",
    "plt.show()\n",
    "\n",
    "type(x.to_frame())"
   ]
  },
  {
   "cell_type": "markdown",
   "metadata": {},
   "source": [
    "Podemos observar que a relação não é linear. Para se fazer um ajuste pelo método dos mínimos quadrados (MMQ) devemos conhecer - ou ao menos modelar - a dependência de y em relação a x (por exemplo, campo elétrico em função da distância). De posse dessa forma funcional é possível aplicar uma linearização aos dados e então sobre o resultado da linearização é possível se fazer um ajuste linear usando MMQ."
   ]
  },
  {
   "cell_type": "markdown",
   "metadata": {},
   "source": [
    "## Linearização dos dados\n",
    "\n",
    "No caso do experimento para lei de Ohm o gráfico de $V$ em função de $I$ é linear, então não precisamos fazer uma linearização"
   ]
  },
  {
   "cell_type": "code",
   "execution_count": 221,
   "metadata": {},
   "outputs": [
    {
     "data": {
      "application/vnd.microsoft.datawrangler.viewer.v0+json": {
       "columns": [
        {
         "name": "index",
         "rawType": "int64",
         "type": "integer"
        },
        {
         "name": "Corrente",
         "rawType": "float64",
         "type": "float"
        }
       ],
       "ref": "a0493014-3b8e-4839-ab20-ae804347f598",
       "rows": [
        [
         "0",
         "0.0"
        ],
        [
         "1",
         "0.353"
        ],
        [
         "2",
         "0.6"
        ],
        [
         "3",
         "0.925"
        ],
        [
         "4",
         "1.231"
        ],
        [
         "5",
         "1.536"
        ],
        [
         "6",
         "1.847"
        ],
        [
         "7",
         "2.107"
        ],
        [
         "8",
         "2.409"
        ],
        [
         "9",
         "2.78"
        ],
        [
         "10",
         "3.023"
        ],
        [
         "11",
         "3.134"
        ]
       ],
       "shape": {
        "columns": 1,
        "rows": 12
       }
      },
      "text/plain": [
       "0     0.000\n",
       "1     0.353\n",
       "2     0.600\n",
       "3     0.925\n",
       "4     1.231\n",
       "5     1.536\n",
       "6     1.847\n",
       "7     2.107\n",
       "8     2.409\n",
       "9     2.780\n",
       "10    3.023\n",
       "11    3.134\n",
       "Name: Corrente, dtype: float64"
      ]
     },
     "execution_count": 221,
     "metadata": {},
     "output_type": "execute_result"
    }
   ],
   "source": [
    "#linearizando a sequência de valores de x usando numpy\n",
    "z = x\n",
    "z"
   ]
  },
  {
   "cell_type": "markdown",
   "metadata": {},
   "source": [
    "### Propagação das incertezas na linearização\n",
    "\n",
    "Como nosso caso é linear, não precisamos nos preocupar com a propagação de incertezas."
   ]
  },
  {
   "cell_type": "code",
   "execution_count": 222,
   "metadata": {},
   "outputs": [
    {
     "data": {
      "text/plain": [
       "array([0.004, 0.004, 0.004, 0.004, 0.004, 0.004, 0.004, 0.004, 0.004,\n",
       "       0.004, 0.004, 0.004])"
      ]
     },
     "execution_count": 222,
     "metadata": {},
     "output_type": "execute_result"
    }
   ],
   "source": [
    "#propagando a incerteza por conta da linearização\n",
    "sigma_z = incx\n",
    "sigma_z"
   ]
  },
  {
   "cell_type": "markdown",
   "metadata": {},
   "source": [
    "## MMQ com $ \\chi^2 $\n",
    "\n",
    "Em um ajuste por regressão linear no modo mais simples não se utilizam incertezas associadas aos pontos e também não se obtém as incertezas nos parâmetros ajustados (ou matriz covariância). Além disso utiliza-se como medida da qualidade de ajuste a variável $ R^2 $, que na verdade é uma estimativa de quanto dos dados pode ser descrito pelo modelo/função ajustado(a). Ela é também o quadrado da correlação de Pearson. Em geral se diz que quanto mais próximo de 1 é  $ R^2 $ melhor é o ajuste, mas se for realizado o cálculo de $ R^2 $ para um ajuste a uma grandeza constante o valor será muito próximo de zero, mesmo que se tenha um ajuste bastante verossímil.\n",
    "Para se obter um ajuste de MMQ que tenha significado probabilístico - ou seja tenha um resultado de $ \\chi^2 $ associado - é preciso que se informe ao método de ajuste as incertezas dos pontos experimentais. No caso do ajuste por MMQ somente as incertezas na variável dependente (y) é que são aceitas, portanto se as incertezas em x não são desprezíveis é preciso propagá-las para y. Para uma explicação detalhada do procedimento, verifique a **referência 1**. \n",
    "\n",
    "Para essa propagação completa é preciso fazer:\n",
    "$$ (\\sigma_y)^2= (\\sigma_{y_0})^2 + \\left(\\frac{dy}{dx}\\sigma_x \\right)^2$$\n",
    "onde $\\sigma_{y_0}$ corresponde à incerteza original de y (aquela que vem da própria medida) e $\\frac{dy}{dx}$ pode ser aproximado pelo coeficiente angular de um ajuste linear aos dados. Neste exemplo, $\\sigma_x$ é a variável sigma_z.\n",
    "Para o coeficiente angular podemos realizar uma regressão linear simples (RLS) aos dados e usar com excelente precisão o valor do parâmetro correspondente obtido da RLS, sem se preocupar neste momento com a qualidade do ajuste.\n"
   ]
  },
  {
   "cell_type": "code",
   "execution_count": 223,
   "metadata": {},
   "outputs": [],
   "source": [
    "#ajustando a reta (RLS)\n",
    "xlin = sm.add_constant(z)\n",
    "reglin = sm.OLS(y,xlin)\n",
    "reglin_dat = reglin.fit()\n",
    "f_de_z = reglin_dat.params"
   ]
  },
  {
   "cell_type": "markdown",
   "metadata": {},
   "source": [
    "Para esse ajuste o coeficiente angular é o primeiro parâmetro do vetor f_de_z com o valor:"
   ]
  },
  {
   "cell_type": "code",
   "execution_count": 224,
   "metadata": {},
   "outputs": [
    {
     "name": "stdout",
     "output_type": "stream",
     "text": [
      "coeficiente angular:  0.0018224793273753448\n"
     ]
    }
   ],
   "source": [
    "print(\"coeficiente angular: \", f_de_z.iloc[1])"
   ]
  },
  {
   "cell_type": "markdown",
   "metadata": {},
   "source": [
    "Com o coeficiente angular ($dy/dx$) pode-se então fazer a transferência de incertezas para o y:"
   ]
  },
  {
   "cell_type": "code",
   "execution_count": 225,
   "metadata": {},
   "outputs": [
    {
     "data": {
      "text/plain": [
       "array([1.23750917e-05, 1.23750917e-05, 1.23750917e-05, 1.23750917e-05,\n",
       "       1.23750917e-05, 1.23750917e-05, 1.23750917e-05, 1.23750917e-05,\n",
       "       1.23750917e-05, 1.23750917e-05, 1.23750917e-05, 1.23750917e-05])"
      ]
     },
     "execution_count": 225,
     "metadata": {},
     "output_type": "execute_result"
    }
   ],
   "source": [
    "#transferindo incerteza de z para y\n",
    "incytransf = np.sqrt(np.power(f_de_z.iloc[1]*sigma_z,2)+np.power(incy,2)) \n",
    "incytransf"
   ]
  },
  {
   "cell_type": "markdown",
   "metadata": {},
   "source": [
    "É interessante visualizar novamente os pontos agora apenas com incertezas em y"
   ]
  },
  {
   "cell_type": "code",
   "execution_count": 226,
   "metadata": {},
   "outputs": [
    {
     "data": {
      "image/png": "[encoded data removed]",
      "text/plain": [
       "<Figure size 640x480 with 1 Axes>"
      ]
     },
     "metadata": {},
     "output_type": "display_data"
    }
   ],
   "source": [
    "#plotando gráfico com as incertezas transferidas para a variável dependente (y)\n",
    "plt.errorbar(z, y, incytransf,0,'or')\n",
    "plt.title(\"Dados linearizados, incertezas transferidas\")\n",
    "plt.xlabel(\"Corrente (A)\")\n",
    "plt.ylabel(\"Massa (g)\")\n",
    "plt.show()\n"
   ]
  },
  {
   "cell_type": "markdown",
   "metadata": {},
   "source": [
    "Para se obter as incertezas do ajuste é necessário obter o inverso da **matriz de covariância** do ajuste e a partir dela, os termos da sua diagonal principal. Esses termos correspondem às variâncias dos parâmetros de forma que (veja o capítulo 12 da **referência 2**):\n",
    "$$\\sigma_{p_j}^2=a_{jj}$$\n",
    "onde os termos $a_{jj}$ correspondem a\n",
    "$$ \\mathcal{M}^{-1} = \\begin{pmatrix} a_{00} & a_{01} \\\\ a_{10} & a_{11} \\end{pmatrix}$$\n",
    "No _WLS_ do **statsmodels** a função HC0 ('_HCzero_') retorna diretamente as incertezas do ajuste."
   ]
  },
  {
   "cell_type": "code",
   "execution_count": 227,
   "metadata": {},
   "outputs": [
    {
     "name": "stdout",
     "output_type": "stream",
     "text": [
      "-8.27918204176993e-06 0.0018224793273753444\n",
      "6.410251933344119e-06 3.1500240522751196e-06\n"
     ]
    }
   ],
   "source": [
    "#criando os 'pesos' a partir da incerteza\n",
    "ws = 1/(incytransf**2)\n",
    "reglinw = sm.WLS(y,xlin,ws)\n",
    "result_rlw = reglinw.fit()\n",
    "fitpars = result_rlw.params\n",
    "fiterrs = result_rlw.HC0_se\n",
    "print(fitpars.iloc[0],fitpars.iloc[1])\n",
    "print(fiterrs.iloc[0],fiterrs.iloc[1])"
   ]
  },
  {
   "cell_type": "markdown",
   "metadata": {},
   "source": [
    "**ATENÇÃO:** note que os parâmetros do ajuste **mudaram** quando as incertezas foram utilizadas como _pesos_ no ajuste."
   ]
  },
  {
   "cell_type": "code",
   "execution_count": 228,
   "metadata": {},
   "outputs": [
    {
     "name": "stdout",
     "output_type": "stream",
     "text": [
      "coef. angular= 0.0 +- 0.0\n",
      "coef. linear= -0.0 +- 0.0\n"
     ]
    }
   ],
   "source": [
    "#note que o statsmodels retorna os parâmetros em ordem inversa em relação aos outros dois métodos\n",
    "p_0 = fitpars.iloc[1] #coef ang\n",
    "p_1 = fitpars.iloc[0] #coef lin\n",
    "#note que não há raiz quadrada\n",
    "s_p_0 = fiterrs.iloc[1] #incert p_0\n",
    "s_p_1 = fiterrs.iloc[0] #incert p_1\n",
    "rp_0 = np.round(p_0,2)\n",
    "rp_1 = np.round(p_1,2)\n",
    "rs_p_0 = np.round(s_p_0,2)\n",
    "rs_p_1 = np.round(s_p_1,2)\n",
    "print(\"coef. angular=\",rp_0,\"+-\",rs_p_0)\n",
    "print(\"coef. linear=\",rp_1,\"+-\",rs_p_1)"
   ]
  },
  {
   "cell_type": "markdown",
   "metadata": {},
   "source": [
    "## Graficando o ajuste aos pontos\n",
    "Agora colocamos a linha reta referente aos pontos da seguinte forma:"
   ]
  },
  {
   "cell_type": "code",
   "execution_count": 229,
   "metadata": {},
   "outputs": [
    {
     "data": {
      "text/plain": [
       "[<matplotlib.lines.Line2D at 0x7ce8e5174410>]"
      ]
     },
     "execution_count": 229,
     "metadata": {},
     "output_type": "execute_result"
    },
    {
     "data": {
      "image/png": "[encoded data removed]",
      "text/plain": [
       "<Figure size 640x480 with 1 Axes>"
      ]
     },
     "metadata": {},
     "output_type": "display_data"
    }
   ],
   "source": [
    "xline = z\n",
    "yline = fitpars.iloc[0] + fitpars.iloc[1] * z\n",
    "plt.errorbar(z, y, incytransf,0,'or')\n",
    "plt.title(\"Dados linearizados, incertezas transferidas com linha de ajuste\")\n",
    "plt.xlabel(\"Corrente (A)\")\n",
    "plt.ylabel(\"Massa (g)\")\n",
    "#incluindo a linha do ajuste linear, k=preto, '--' = linha tracejada\n",
    "plt.plot(xline, yline, 'k--')"
   ]
  },
  {
   "cell_type": "markdown",
   "metadata": {},
   "source": [
    "## Qualidade do ajuste\n",
    "Existem várias grandezas utilizadas como medida de qualidade do ajuste: $\\chi^2_{red}$ (qui-quadrado reduzido), $R^2$ e gráfico de resíduos.\n",
    "\n",
    "\n",
    "\n",
    " ### 1. Teste de $\\chi^2$ ou $\\chi^2_{red}$\n",
    " O teste de $\\chi^2$ baseia-se na expectativa de que o $\\chi^2_{red}$ seja muito próximo do valor 1 (um). Para uma explicação deste teste veja o capítulo 14 da **referência 2**.\n",
    " Alguns cuidados devem ser tomados na interpretação de $\\chi^2_{red}$. Em geral se os valores se afastam muito de 1 (ou $\\chi^2_{red}$>>1 ou $\\chi^2_{red}\\approx 0$ há problemas. O primeiro dos problemas é com o a estimação da incerteza dos dados experimentais. Quando a subestimação das incertezas o valor de $\\chi^2_{red}$ fica artificialmente maior que 1 e o contrário também é verdade, incertezas superestimadas levam a um reduzido valor de $\\chi^2_{red}$. O último caso é sempre o sintoma de superestimação de incertezas. No entanto, quando $\\chi^2_{red}$>>1 nem sempre o problema é de subestimação de incertezas, mas pode ser que a função ajustada (ou modelo) não é adequado para descrever os dados experimentais (por exemplo, usar uma reta em dados que seriam melhor descritos por um polinômio do segundo grau). Não existe uma única forma para se calcular o $\\chi^2_{red}$ com o **statsmodel**, mas podemos usar o **numpy** com os resultados do _WLS_ :"
   ]
  },
  {
   "cell_type": "code",
   "execution_count": 230,
   "metadata": {},
   "outputs": [
    {
     "name": "stdout",
     "output_type": "stream",
     "text": [
      "11.079028332319997\n"
     ]
    },
    {
     "data": {
      "text/plain": [
       "np.float64(1.1079028332319996)"
      ]
     },
     "execution_count": 230,
     "metadata": {},
     "output_type": "execute_result"
    }
   ],
   "source": [
    "#calulando chi^2_red\n",
    "invpars = fitpars.iloc[1],fitpars.iloc[0]\n",
    "yhat = np.polyval(invpars, z)\n",
    "chi_squared = np.sum(((yhat - y)/incytransf) ** 2)\n",
    "print(chi_squared)\n",
    "chi2_red = chi_squared/(len(z)-2)\n",
    "chi2_red"
   ]
  },
  {
   "cell_type": "markdown",
   "metadata": {},
   "source": [
    "### 2. Valor de $R^2$\n",
    " O $R^2$ é simplesmente o quadrado do coeficiente de correlação. O coeficiente de correlação, geralmente denotado por $\\rho$ (também conhecido como [coeficiente de correlação de Pearson](https://pt.wikipedia.org/wiki/Coeficiente_de_correla%C3%A7%C3%A3o_de_Pearson)). Como o valor de $\\rho$ é limitado\n",
    " $$-1<\\rho<1$$\n",
    " o valor de $R^2$ quadrado também será limitado ($0<R^2<1$), interpretando-se a qualidade do ajuste como sendo tão melhor quanto mais próxima de 1. No entanto, esse é um equívoco, pois assim como $\\rho$, $R^2$ dá uma medida da intensidade da correlação entre os valores $x$ e $y$ dos pontos experimentais. Se o ajuste de reta proposto tiver um coeficiente angular com valor muito baixo comparado ao do coeficiente linear combinado com flutuações dos pontos moderadas (pouco mais de 1%) o valor de $R^2$ pode facilmente cair abaixo de 0.5, o que levaria à uma conclusão possivelmente errônea de má qualidade de ajuste (ou de modelo). Por outro lado, um conjunto de pontos levemente não linear (tipo $x^{3/2}$) pode ser ajustado por uma reta com $R^2$>0.9, indicando erroneamente que o ajuste é bom.\n",
    "**Portanto deve-se evitar $R^2$ como única medida de qualidade de ajuste.**\n",
    "\n",
    "O **statsmodels** tem uma forma bem simples de se obter o $R^2$ a partir dos resultados do ajuste via _WLS_ :\n"
   ]
  },
  {
   "cell_type": "code",
   "execution_count": 231,
   "metadata": {},
   "outputs": [
    {
     "data": {
      "text/plain": [
       "np.float64(1.0)"
      ]
     },
     "execution_count": 231,
     "metadata": {},
     "output_type": "execute_result"
    }
   ],
   "source": [
    "np.round(result_rlw.rsquared,3)"
   ]
  },
  {
   "cell_type": "markdown",
   "metadata": {},
   "source": [
    "### 3. Gráfico de resíduos\n",
    "\n",
    "O gráfico de resíduos é sempre uma boa ferramenta e deve sempre que possível ser usada complementarmente a outras medidas de qualidade, principalmente quando se usa $R^2$, que jamais deve ser usado sozinho. \n",
    "Para se fazer um gráfico de ajuste faz-se um gráfico com o mesmo eixo $x$ dos dados originais, enquanto que no eixo vertical devem ser colocados os valores da diferença $(\\hat{y}-y)$, onde $\\hat{y}$ são os valores calculados para cada $x$ a partir dos parâmetros do ajuste.\n",
    "\n",
    "Um bom ajuste deverá mostrar um gráfico de resíduos com os pontos distribuídos de maneira aleatória acima e abaixo do eixo $x$. Na célula abaixo é apresentada a confecção de um gráfico de resíduos. Os dados usados neste exemplo _parecem_ razoáveis."
   ]
  },
  {
   "cell_type": "code",
   "execution_count": 232,
   "metadata": {
    "scrolled": true
   },
   "outputs": [
    {
     "data": {
      "text/plain": [
       "<matplotlib.lines.Line2D at 0x7ce8e483fb10>"
      ]
     },
     "execution_count": 232,
     "metadata": {},
     "output_type": "execute_result"
    },
    {
     "data": {
      "image/png": "[encoded data removed]",
      "text/plain": [
       "<Figure size 640x480 with 1 Axes>"
      ]
     },
     "metadata": {},
     "output_type": "display_data"
    }
   ],
   "source": [
    "resid = (yhat - y)\n",
    "plt.plot(z, resid, 'or')\n",
    "plt.title(\"Gráfico de resíduos\")\n",
    "plt.xlabel(\"Corrente (A)\")\n",
    "plt.ylabel(\"Resíduos\")\n",
    "plt.axhline(y=0, color='k', linestyle='-')"
   ]
  },
  {
   "cell_type": "markdown",
   "metadata": {},
   "source": [
    "## Valor estimado de Comprimento do Fio\n",
    "\n",
    "A teoria nos dá que \n",
    "\n",
    "$$ F_B = I\\vec{L} \\times \\vec{B}$$\n",
    "$$ F_B = P = mg \\rightarrow m = \\frac{P}{g}$$\n",
    "$$ y = m \\text{ , } x = I$$\n",
    "$$ y = x \\frac{LB}{g}$$\n",
    "$$ \\frac{LB}{g} = a$$\n",
    "$$ L = \\frac{g}{B}a$$"
   ]
  },
  {
   "cell_type": "code",
   "execution_count": 233,
   "metadata": {},
   "outputs": [
    {
     "name": "stdout",
     "output_type": "stream",
     "text": [
      "L= -0.04503406096108849 +- 7.783812582574035e-05\n"
     ]
    }
   ],
   "source": [
    "a = p_0\n",
    "s_a = s_p_0\n",
    "\n",
    "B = -0.397 \n",
    "s_B = 0\n",
    "\n",
    "g = 9.81\n",
    "\n",
    "L = g*a/B\n",
    "s_L = np.sqrt(((g/B)*s_a)**2 + ((-(a*g/B**2))*s_B)**2)\n",
    "print(\"L=\",L,\"+-\",s_L)"
   ]
  },
  {
   "cell_type": "markdown",
   "metadata": {},
   "source": [
    "# Metodo 2"
   ]
  },
  {
   "cell_type": "code",
   "execution_count": 234,
   "metadata": {},
   "outputs": [
    {
     "name": "stdout",
     "output_type": "stream",
     "text": [
      "    Campo  massa  sCampo\n",
      "0    -397   5.74     6.2\n",
      "1    -360   5.23     6.1\n",
      "2    -320   4.69     5.9\n",
      "3    -280   4.16     5.8\n",
      "4    -240   3.63     5.7\n",
      "5    -200   3.11     5.6\n",
      "6    -160   2.54     5.5\n",
      "7    -120   1.99     5.4\n",
      "8     -80   1.42     5.2\n",
      "9     -40   0.87     5.1\n",
      "10     -2   0.30     5.0\n",
      "-0.397 +- 0.006200000000000001\n",
      "-0.36 +- 0.0060999999999999995\n",
      "-0.32 +- 0.005900000000000001\n",
      "-0.28 +- 0.0058\n",
      "-0.24 +- 0.0057\n",
      "-0.2 +- 0.0056\n",
      "-0.16 +- 0.0055\n",
      "-0.12 +- 0.0054\n",
      "-0.08 +- 0.005200000000000001\n",
      "-0.04 +- 0.0050999999999999995\n",
      "-0.002 +- 0.005\n",
      "\n",
      "0.00574 +- 1e-05\n",
      "0.00523 +- 1e-05\n",
      "0.004690000000000001 +- 1e-05\n",
      "0.0041600000000000005 +- 1e-05\n",
      "0.00363 +- 1e-05\n",
      "0.00311 +- 1e-05\n",
      "0.00254 +- 1e-05\n",
      "0.00199 +- 1e-05\n",
      "0.00142 +- 1e-05\n",
      "0.00087 +- 1e-05\n",
      "0.0003 +- 1e-05\n"
     ]
    }
   ],
   "source": [
    "# vc precisa de um arquivo .csv para cada conjunto de dados\n",
    "dados = pd.read_csv(\"metodo2.csv\")\n",
    "print(dados)\n",
    "\n",
    "x = dados[\"Campo\"] * 1e-3  # Convert to T\n",
    "y = dados[\"massa\"] * 1e-3  # Convert to kg\n",
    "incx = dados[\"sCampo\"] * 1e-3  # Convert to T\n",
    "incy = np.full_like(y, 0.01 * 1e-3, dtype=float) # Convert to kg\n",
    "\n",
    "\n",
    "# Format and print x with uncertainties\n",
    "for xi, incxi in zip(x, incx):\n",
    "    print(f\"{xi} +- {incxi}\")\n",
    "\n",
    "\n",
    "print(\"\")\n",
    "# Format and print y with uncertainties\n",
    "for yi, incyi in zip(y, incy):\n",
    "    print(f\"{yi} +- {incyi}\")"
   ]
  },
  {
   "cell_type": "markdown",
   "metadata": {},
   "source": [
    "Podemos inicialmente colocar os dados num gráfico para fazer uma primeira visualização exploratória. Para isso usamos o _pyplot_ do _matplotlib_ para graficar os pontos com suas respectivas barras de erro."
   ]
  },
  {
   "cell_type": "code",
   "execution_count": 235,
   "metadata": {},
   "outputs": [
    {
     "data": {
      "image/png": "[encoded data removed]",
      "text/plain": [
       "<Figure size 640x480 with 1 Axes>"
      ]
     },
     "metadata": {},
     "output_type": "display_data"
    },
    {
     "data": {
      "text/plain": [
       "pandas.core.frame.DataFrame"
      ]
     },
     "execution_count": 235,
     "metadata": {},
     "output_type": "execute_result"
    }
   ],
   "source": [
    "# visualizando os dados pelo gráfico\n",
    "\n",
    "plt.figure() \n",
    "plt.errorbar(x, y, incy, incx,'og')\n",
    "plt.title(\"Visualização\")\n",
    "plt.xlabel(\"Campo (T)\")\n",
    "plt.ylabel(\"Massa (g)\")\n",
    "plt.show()\n",
    "\n",
    "type(x.to_frame())"
   ]
  },
  {
   "cell_type": "markdown",
   "metadata": {},
   "source": [
    "Podemos observar que a relação não é linear. Para se fazer um ajuste pelo método dos mínimos quadrados (MMQ) devemos conhecer - ou ao menos modelar - a dependência de y em relação a x (por exemplo, campo elétrico em função da distância). De posse dessa forma funcional é possível aplicar uma linearização aos dados e então sobre o resultado da linearização é possível se fazer um ajuste linear usando MMQ."
   ]
  },
  {
   "cell_type": "markdown",
   "metadata": {},
   "source": [
    "## Linearização dos dados\n",
    "\n",
    "No caso do experimento para lei de Ohm o gráfico de $V$ em função de $I$ é linear, então não precisamos fazer uma linearização"
   ]
  },
  {
   "cell_type": "code",
   "execution_count": 236,
   "metadata": {},
   "outputs": [
    {
     "data": {
      "application/vnd.microsoft.datawrangler.viewer.v0+json": {
       "columns": [
        {
         "name": "index",
         "rawType": "int64",
         "type": "integer"
        },
        {
         "name": "Campo",
         "rawType": "float64",
         "type": "float"
        }
       ],
       "ref": "b0eae966-514e-4f4e-ab3b-6784522e4ac1",
       "rows": [
        [
         "0",
         "-0.397"
        ],
        [
         "1",
         "-0.36"
        ],
        [
         "2",
         "-0.32"
        ],
        [
         "3",
         "-0.28"
        ],
        [
         "4",
         "-0.24"
        ],
        [
         "5",
         "-0.2"
        ],
        [
         "6",
         "-0.16"
        ],
        [
         "7",
         "-0.12"
        ],
        [
         "8",
         "-0.08"
        ],
        [
         "9",
         "-0.04"
        ],
        [
         "10",
         "-0.002"
        ]
       ],
       "shape": {
        "columns": 1,
        "rows": 11
       }
      },
      "text/plain": [
       "0    -0.397\n",
       "1    -0.360\n",
       "2    -0.320\n",
       "3    -0.280\n",
       "4    -0.240\n",
       "5    -0.200\n",
       "6    -0.160\n",
       "7    -0.120\n",
       "8    -0.080\n",
       "9    -0.040\n",
       "10   -0.002\n",
       "Name: Campo, dtype: float64"
      ]
     },
     "execution_count": 236,
     "metadata": {},
     "output_type": "execute_result"
    }
   ],
   "source": [
    "#linearizando a sequência de valores de x usando numpy\n",
    "z = x\n",
    "z"
   ]
  },
  {
   "cell_type": "markdown",
   "metadata": {},
   "source": [
    "### Propagação das incertezas na linearização\n",
    "\n",
    "Como nosso caso é linear, não precisamos nos preocupar com a propagação de incertezas."
   ]
  },
  {
   "cell_type": "code",
   "execution_count": 237,
   "metadata": {},
   "outputs": [
    {
     "data": {
      "application/vnd.microsoft.datawrangler.viewer.v0+json": {
       "columns": [
        {
         "name": "index",
         "rawType": "int64",
         "type": "integer"
        },
        {
         "name": "sCampo",
         "rawType": "float64",
         "type": "float"
        }
       ],
       "ref": "570e71e7-2e9c-4ed3-887a-51a5d8960061",
       "rows": [
        [
         "0",
         "0.006200000000000001"
        ],
        [
         "1",
         "0.0060999999999999995"
        ],
        [
         "2",
         "0.005900000000000001"
        ],
        [
         "3",
         "0.0058"
        ],
        [
         "4",
         "0.0057"
        ],
        [
         "5",
         "0.0056"
        ],
        [
         "6",
         "0.0055"
        ],
        [
         "7",
         "0.0054"
        ],
        [
         "8",
         "0.005200000000000001"
        ],
        [
         "9",
         "0.0050999999999999995"
        ],
        [
         "10",
         "0.005"
        ]
       ],
       "shape": {
        "columns": 1,
        "rows": 11
       }
      },
      "text/plain": [
       "0     0.0062\n",
       "1     0.0061\n",
       "2     0.0059\n",
       "3     0.0058\n",
       "4     0.0057\n",
       "5     0.0056\n",
       "6     0.0055\n",
       "7     0.0054\n",
       "8     0.0052\n",
       "9     0.0051\n",
       "10    0.0050\n",
       "Name: sCampo, dtype: float64"
      ]
     },
     "execution_count": 237,
     "metadata": {},
     "output_type": "execute_result"
    }
   ],
   "source": [
    "#propagando a incerteza por conta da linearização\n",
    "sigma_z = incx\n",
    "sigma_z"
   ]
  },
  {
   "cell_type": "markdown",
   "metadata": {},
   "source": [
    "## Visualizando a linearização\n",
    "\n",
    "Em seguida podemos fazer a visualização dos dados após a linearização refazendo o gráfico com a variável z no lugar de x:"
   ]
  },
  {
   "cell_type": "code",
   "execution_count": 238,
   "metadata": {},
   "outputs": [
    {
     "data": {
      "image/png": "[encoded data removed]",
      "text/plain": [
       "<Figure size 640x480 with 1 Axes>"
      ]
     },
     "metadata": {},
     "output_type": "display_data"
    }
   ],
   "source": [
    "# visualizando os dados linearizados\n",
    "plt.errorbar(z, y, incy,sigma_z,'o')\n",
    "plt.title(\"Dados linearizados\")\n",
    "plt.xlabel(\"Campo (T)\")\n",
    "plt.ylabel(\"Massa (g)\")\n",
    "plt.show()"
   ]
  },
  {
   "cell_type": "markdown",
   "metadata": {},
   "source": [
    "## MMQ com $ \\chi^2 $\n",
    "\n",
    "Em um ajuste por regressão linear no modo mais simples não se utilizam incertezas associadas aos pontos e também não se obtém as incertezas nos parâmetros ajustados (ou matriz covariância). Além disso utiliza-se como medida da qualidade de ajuste a variável $ R^2 $, que na verdade é uma estimativa de quanto dos dados pode ser descrito pelo modelo/função ajustado(a). Ela é também o quadrado da correlação de Pearson. Em geral se diz que quanto mais próximo de 1 é  $ R^2 $ melhor é o ajuste, mas se for realizado o cálculo de $ R^2 $ para um ajuste a uma grandeza constante o valor será muito próximo de zero, mesmo que se tenha um ajuste bastante verossímil.\n",
    "Para se obter um ajuste de MMQ que tenha significado probabilístico - ou seja tenha um resultado de $ \\chi^2 $ associado - é preciso que se informe ao método de ajuste as incertezas dos pontos experimentais. No caso do ajuste por MMQ somente as incertezas na variável dependente (y) é que são aceitas, portanto se as incertezas em x não são desprezíveis é preciso propagá-las para y. Para uma explicação detalhada do procedimento, verifique a **referência 1**. \n",
    "\n",
    "Para essa propagação completa é preciso fazer:\n",
    "$$ (\\sigma_y)^2= (\\sigma_{y_0})^2 + \\left(\\frac{dy}{dx}\\sigma_x \\right)^2$$\n",
    "onde $\\sigma_{y_0}$ corresponde à incerteza original de y (aquela que vem da própria medida) e $\\frac{dy}{dx}$ pode ser aproximado pelo coeficiente angular de um ajuste linear aos dados. Neste exemplo, $\\sigma_x$ é a variável sigma_z.\n",
    "Para o coeficiente angular podemos realizar uma regressão linear simples (RLS) aos dados e usar com excelente precisão o valor do parâmetro correspondente obtido da RLS, sem se preocupar neste momento com a qualidade do ajuste.\n"
   ]
  },
  {
   "cell_type": "code",
   "execution_count": 239,
   "metadata": {},
   "outputs": [],
   "source": [
    "#ajustando a reta (RLS)\n",
    "xlin = sm.add_constant(z)\n",
    "reglin = sm.OLS(y,xlin)\n",
    "reglin_dat = reglin.fit()\n",
    "f_de_z = reglin_dat.params"
   ]
  },
  {
   "cell_type": "markdown",
   "metadata": {},
   "source": [
    "Para esse ajuste o coeficiente angular é o primeiro parâmetro do vetor f_de_z com o valor:"
   ]
  },
  {
   "cell_type": "code",
   "execution_count": 240,
   "metadata": {},
   "outputs": [
    {
     "name": "stdout",
     "output_type": "stream",
     "text": [
      "coeficiente angular:  -0.013686581246323423\n"
     ]
    }
   ],
   "source": [
    "print(\"coeficiente angular: \", f_de_z.iloc[1])"
   ]
  },
  {
   "cell_type": "markdown",
   "metadata": {},
   "source": [
    "Com o coeficiente angular ($dy/dx$) pode-se então fazer a transferência de incertezas para o y:"
   ]
  },
  {
   "cell_type": "code",
   "execution_count": 241,
   "metadata": {},
   "outputs": [
    {
     "data": {
      "application/vnd.microsoft.datawrangler.viewer.v0+json": {
       "columns": [
        {
         "name": "index",
         "rawType": "int64",
         "type": "integer"
        },
        {
         "name": "sCampo",
         "rawType": "float64",
         "type": "float"
        }
       ],
       "ref": "3cf03851-d7b8-48f4-800c-754fc66fdf5a",
       "rows": [
        [
         "0",
         "8.544400001636998e-05"
        ],
        [
         "1",
         "8.408490028629639e-05"
        ],
        [
         "2",
         "8.136766213457962e-05"
        ],
        [
         "3",
         "8.000955636034243e-05"
        ],
        [
         "4",
         "7.865181642425539e-05"
        ],
        [
         "5",
         "7.729446160505272e-05"
        ],
        [
         "6",
         "7.593751255420085e-05"
        ],
        [
         "7",
         "7.458099141971837e-05"
        ],
        [
         "8",
         "7.186932981445016e-05"
        ],
        [
         "9",
         "7.051424243781986e-05"
        ],
        [
         "10",
         "6.91596895258018e-05"
        ]
       ],
       "shape": {
        "columns": 1,
        "rows": 11
       }
      },
      "text/plain": [
       "0     0.000085\n",
       "1     0.000084\n",
       "2     0.000081\n",
       "3     0.000080\n",
       "4     0.000079\n",
       "5     0.000077\n",
       "6     0.000076\n",
       "7     0.000075\n",
       "8     0.000072\n",
       "9     0.000071\n",
       "10    0.000069\n",
       "Name: sCampo, dtype: float64"
      ]
     },
     "execution_count": 241,
     "metadata": {},
     "output_type": "execute_result"
    }
   ],
   "source": [
    "#transferindo incerteza de z para y\n",
    "incytransf = np.sqrt(np.power(f_de_z.iloc[1]*sigma_z,2)+np.power(incy,2)) \n",
    "incytransf"
   ]
  },
  {
   "cell_type": "markdown",
   "metadata": {},
   "source": [
    "É interessante visualizar novamente os pontos agora apenas com incertezas em y"
   ]
  },
  {
   "cell_type": "code",
   "execution_count": 242,
   "metadata": {},
   "outputs": [
    {
     "data": {
      "image/png": "[encoded data removed]",
      "text/plain": [
       "<Figure size 640x480 with 1 Axes>"
      ]
     },
     "metadata": {},
     "output_type": "display_data"
    }
   ],
   "source": [
    "#plotando gráfico com as incertezas transferidas para a variável dependente (y)\n",
    "plt.errorbar(z, y, incytransf,0,'or')\n",
    "plt.title(\"Dados linearizados, incertezas transferidas\")\n",
    "plt.xlabel(\"Campo (T)\")\n",
    "plt.ylabel(\"Massa (g)\")\n",
    "plt.show()\n"
   ]
  },
  {
   "cell_type": "markdown",
   "metadata": {},
   "source": [
    "Para se obter as incertezas do ajuste é necessário obter o inverso da **matriz de covariância** do ajuste e a partir dela, os termos da sua diagonal principal. Esses termos correspondem às variâncias dos parâmetros de forma que (veja o capítulo 12 da **referência 2**):\n",
    "$$\\sigma_{p_j}^2=a_{jj}$$\n",
    "onde os termos $a_{jj}$ correspondem a\n",
    "$$ \\mathcal{M}^{-1} = \\begin{pmatrix} a_{00} & a_{01} \\\\ a_{10} & a_{11} \\end{pmatrix}$$\n",
    "No _WLS_ do **statsmodels** a função HC0 ('_HCzero_') retorna diretamente as incertezas do ajuste."
   ]
  },
  {
   "cell_type": "code",
   "execution_count": 243,
   "metadata": {},
   "outputs": [
    {
     "name": "stdout",
     "output_type": "stream",
     "text": [
      "0.00032133403118468135 -0.013708850421926882\n",
      "1.8321981668191952e-05 7.29892939212093e-05\n"
     ]
    }
   ],
   "source": [
    "#criando os 'pesos' a partir da incerteza\n",
    "ws = 1/(incytransf**2)\n",
    "reglinw = sm.WLS(y,xlin,ws)\n",
    "result_rlw = reglinw.fit()\n",
    "fitpars = result_rlw.params\n",
    "fiterrs = result_rlw.HC0_se\n",
    "print(fitpars.iloc[0],fitpars.iloc[1])\n",
    "print(fiterrs.iloc[0],fiterrs.iloc[1])"
   ]
  },
  {
   "cell_type": "markdown",
   "metadata": {},
   "source": [
    "**ATENÇÃO:** note que os parâmetros do ajuste **mudaram** quando as incertezas foram utilizadas como _pesos_ no ajuste."
   ]
  },
  {
   "cell_type": "code",
   "execution_count": 244,
   "metadata": {},
   "outputs": [
    {
     "name": "stdout",
     "output_type": "stream",
     "text": [
      "coef. angular= -0.01 +- 0.0\n",
      "coef. linear= 0.0 +- 0.0\n"
     ]
    }
   ],
   "source": [
    "#note que o statsmodels retorna os parâmetros em ordem inversa em relação aos outros dois métodos\n",
    "p_0 = fitpars.iloc[1] #coef ang\n",
    "p_1 = fitpars.iloc[0] #coef lin\n",
    "#note que não há raiz quadrada\n",
    "s_p_0 = fiterrs.iloc[1] #incert p_0\n",
    "s_p_1 = fiterrs.iloc[0] #incert p_1\n",
    "rp_0 = np.round(p_0,2)\n",
    "rp_1 = np.round(p_1,2)\n",
    "rs_p_0 = np.round(s_p_0,2)\n",
    "rs_p_1 = np.round(s_p_1,2)\n",
    "print(\"coef. angular=\",rp_0,\"+-\",rs_p_0)\n",
    "print(\"coef. linear=\",rp_1,\"+-\",rs_p_1)"
   ]
  },
  {
   "cell_type": "markdown",
   "metadata": {},
   "source": [
    "## Graficando o ajuste aos pontos\n",
    "Agora colocamos a linha reta referente aos pontos da seguinte forma:"
   ]
  },
  {
   "cell_type": "code",
   "execution_count": 245,
   "metadata": {},
   "outputs": [
    {
     "data": {
      "text/plain": [
       "[<matplotlib.lines.Line2D at 0x7ce8e459d450>]"
      ]
     },
     "execution_count": 245,
     "metadata": {},
     "output_type": "execute_result"
    },
    {
     "data": {
      "image/png": "[encoded data removed]",
      "text/plain": [
       "<Figure size 640x480 with 1 Axes>"
      ]
     },
     "metadata": {},
     "output_type": "display_data"
    }
   ],
   "source": [
    "xline = z\n",
    "yline = fitpars.iloc[0] + fitpars.iloc[1] * z\n",
    "plt.errorbar(z, y, incytransf,0,'or')\n",
    "plt.title(\"Dados linearizados, incertezas transferidas com linha de ajuste\")\n",
    "plt.xlabel(\"Campo (T)\")\n",
    "plt.ylabel(\"Massa (g)\")\n",
    "#incluindo a linha do ajuste linear, k=preto, '--' = linha tracejada\n",
    "plt.plot(xline, yline, 'k--')"
   ]
  },
  {
   "cell_type": "markdown",
   "metadata": {},
   "source": [
    "## Qualidade do ajuste\n",
    "Existem várias grandezas utilizadas como medida de qualidade do ajuste: $\\chi^2_{red}$ (qui-quadrado reduzido), $R^2$ e gráfico de resíduos.\n",
    "\n",
    "\n",
    "\n",
    " ### 1. Teste de $\\chi^2$ ou $\\chi^2_{red}$\n",
    " O teste de $\\chi^2$ baseia-se na expectativa de que o $\\chi^2_{red}$ seja muito próximo do valor 1 (um). Para uma explicação deste teste veja o capítulo 14 da **referência 2**.\n",
    " Alguns cuidados devem ser tomados na interpretação de $\\chi^2_{red}$. Em geral se os valores se afastam muito de 1 (ou $\\chi^2_{red}$>>1 ou $\\chi^2_{red}\\approx 0$ há problemas. O primeiro dos problemas é com o a estimação da incerteza dos dados experimentais. Quando a subestimação das incertezas o valor de $\\chi^2_{red}$ fica artificialmente maior que 1 e o contrário também é verdade, incertezas superestimadas levam a um reduzido valor de $\\chi^2_{red}$. O último caso é sempre o sintoma de superestimação de incertezas. No entanto, quando $\\chi^2_{red}$>>1 nem sempre o problema é de subestimação de incertezas, mas pode ser que a função ajustada (ou modelo) não é adequado para descrever os dados experimentais (por exemplo, usar uma reta em dados que seriam melhor descritos por um polinômio do segundo grau). Não existe uma única forma para se calcular o $\\chi^2_{red}$ com o **statsmodel**, mas podemos usar o **numpy** com os resultados do _WLS_ :"
   ]
  },
  {
   "cell_type": "code",
   "execution_count": 246,
   "metadata": {},
   "outputs": [
    {
     "name": "stdout",
     "output_type": "stream",
     "text": [
      "1.3586486045463764\n"
     ]
    },
    {
     "data": {
      "text/plain": [
       "np.float64(0.15096095606070847)"
      ]
     },
     "execution_count": 246,
     "metadata": {},
     "output_type": "execute_result"
    }
   ],
   "source": [
    "#calulando chi^2_red\n",
    "invpars = fitpars.iloc[1],fitpars.iloc[0]\n",
    "yhat = np.polyval(invpars, z)\n",
    "chi_squared = np.sum(((yhat - y)/incytransf) ** 2)\n",
    "print(chi_squared)\n",
    "chi2_red = chi_squared/(len(z)-2)\n",
    "chi2_red"
   ]
  },
  {
   "cell_type": "markdown",
   "metadata": {},
   "source": [
    "### 2. Valor de $R^2$\n",
    " O $R^2$ é simplesmente o quadrado do coeficiente de correlação. O coeficiente de correlação, geralmente denotado por $\\rho$ (também conhecido como [coeficiente de correlação de Pearson](https://pt.wikipedia.org/wiki/Coeficiente_de_correla%C3%A7%C3%A3o_de_Pearson)). Como o valor de $\\rho$ é limitado\n",
    " $$-1<\\rho<1$$\n",
    " o valor de $R^2$ quadrado também será limitado ($0<R^2<1$), interpretando-se a qualidade do ajuste como sendo tão melhor quanto mais próxima de 1. No entanto, esse é um equívoco, pois assim como $\\rho$, $R^2$ dá uma medida da intensidade da correlação entre os valores $x$ e $y$ dos pontos experimentais. Se o ajuste de reta proposto tiver um coeficiente angular com valor muito baixo comparado ao do coeficiente linear combinado com flutuações dos pontos moderadas (pouco mais de 1%) o valor de $R^2$ pode facilmente cair abaixo de 0.5, o que levaria à uma conclusão possivelmente errônea de má qualidade de ajuste (ou de modelo). Por outro lado, um conjunto de pontos levemente não linear (tipo $x^{3/2}$) pode ser ajustado por uma reta com $R^2$>0.9, indicando erroneamente que o ajuste é bom.\n",
    "**Portanto deve-se evitar $R^2$ como única medida de qualidade de ajuste.**\n",
    "\n",
    "O **statsmodels** tem uma forma bem simples de se obter o $R^2$ a partir dos resultados do ajuste via _WLS_ :\n"
   ]
  },
  {
   "cell_type": "code",
   "execution_count": 247,
   "metadata": {},
   "outputs": [
    {
     "data": {
      "text/plain": [
       "np.float64(1.0)"
      ]
     },
     "execution_count": 247,
     "metadata": {},
     "output_type": "execute_result"
    }
   ],
   "source": [
    "np.round(result_rlw.rsquared,3)"
   ]
  },
  {
   "cell_type": "markdown",
   "metadata": {},
   "source": [
    "### 3. Gráfico de resíduos\n",
    "\n",
    "O gráfico de resíduos é sempre uma boa ferramenta e deve sempre que possível ser usada complementarmente a outras medidas de qualidade, principalmente quando se usa $R^2$, que jamais deve ser usado sozinho. \n",
    "Para se fazer um gráfico de ajuste faz-se um gráfico com o mesmo eixo $x$ dos dados originais, enquanto que no eixo vertical devem ser colocados os valores da diferença $(\\hat{y}-y)$, onde $\\hat{y}$ são os valores calculados para cada $x$ a partir dos parâmetros do ajuste.\n",
    "\n",
    "Um bom ajuste deverá mostrar um gráfico de resíduos com os pontos distribuídos de maneira aleatória acima e abaixo do eixo $x$. Na célula abaixo é apresentada a confecção de um gráfico de resíduos. Os dados usados neste exemplo _parecem_ razoáveis."
   ]
  },
  {
   "cell_type": "code",
   "execution_count": 248,
   "metadata": {},
   "outputs": [
    {
     "data": {
      "text/plain": [
       "<matplotlib.lines.Line2D at 0x7ce8e43591d0>"
      ]
     },
     "execution_count": 248,
     "metadata": {},
     "output_type": "execute_result"
    },
    {
     "data": {
      "image/png": "[encoded data removed]",
      "text/plain": [
       "<Figure size 640x480 with 1 Axes>"
      ]
     },
     "metadata": {},
     "output_type": "display_data"
    }
   ],
   "source": [
    "resid = (yhat - y)\n",
    "plt.plot(z, resid, 'or')\n",
    "plt.title(\"Gráfico de resíduos\")\n",
    "plt.xlabel(\"Campo (T)\")\n",
    "plt.ylabel(\"Resíduos\")\n",
    "plt.axhline(y=0, color='k', linestyle='-')"
   ]
  },
  {
   "cell_type": "markdown",
   "metadata": {},
   "source": [
    "## Valor estimado de Comprimento do Fio\n",
    "\n",
    "A teoria nos dá que \n",
    "\n",
    "$$ F_B = I\\vec{L} \\times \\vec{B}$$\n",
    "$$ F_B = P = mg \\rightarrow m = \\frac{P}{g}$$\n",
    "$$ y = m \\text{ , } x = B$$\n",
    "$$ y = x \\frac{LI}{g}$$\n",
    "$$ \\frac{LI}{g} = a$$\n",
    "$$ L = \\frac{g}{I}a$$"
   ]
  },
  {
   "cell_type": "code",
   "execution_count": 249,
   "metadata": {},
   "outputs": [
    {
     "name": "stdout",
     "output_type": "stream",
     "text": [
      "L= -0.04292493540986362 +- 0.0002285429215981689\n"
     ]
    }
   ],
   "source": [
    "a = p_0\n",
    "s_a = s_p_0\n",
    "\n",
    "I = 3.133\n",
    "s_I = 0\n",
    "\n",
    "g = 9.81\n",
    "\n",
    "L = g*a/I\n",
    "s_L = np.sqrt(((g/I)*s_a)**2 + ((-(a*g/I**2))*s_I)**2)\n",
    "print(\"L=\",L,\"+-\",s_L)"
   ]
  },
  {
   "cell_type": "markdown",
   "metadata": {},
   "source": [
    "## Referências\n",
    "\n",
    "1. Principios de Física - Volume 2,  Raymond A. Serway, John W. Jewett, Jr., Tradução da 5$^a$ Edição Norte-Americana, 2015 (ISBN-10:85-221-1637-7)\n",
    "2. Fundamentos da Teoria dos Erros, José Henrique Vuolo, 2$^a$ edição, Editora Edgar Blücher, 1996 (ISBN: 85-212-0056-0)"
   ]
  }
 ],
 "metadata": {
  "kernelspec": {
   "display_name": "Python 3",
   "language": "python",
   "name": "python3"
  },
  "language_info": {
   "codemirror_mode": {
    "name": "ipython",
    "version": 3
   },
   "file_extension": ".py",
   "mimetype": "text/x-python",
   "name": "python",
   "nbconvert_exporter": "python",
   "pygments_lexer": "ipython3",
   "version": "3.13.3"
  }
 },
 "nbformat": 4,
 "nbformat_minor": 4
}
