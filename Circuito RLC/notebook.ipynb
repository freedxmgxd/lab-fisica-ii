{
 "cells": [
  {
   "cell_type": "markdown",
   "metadata": {},
   "source": [
    "# Circuito RLC\n",
    "\n",
    "O circuito RLC é um circuito elétrico composto por tres componentes principais, um Resistor, um Indutor e um Capacitor, acompanhados de uma fonte de tensão. Cada componente tem um papel no circuito relacionado a sua função, enquanto o resistor tem papel de dificultar o fluxo das cargas elétricas, o indutor e o capacitor são capazes de transformar a energia cinética das carga em moviemtno em energia potencial, armazenando-a no campo elétrico gerado ao redor do capacitor ou no campo magnético gerado ao redor do indutor.\n",
    "\n",
    "O Comportamento dos componentes pode ser descrito na forma de :\n",
    "\n",
    "* Resistor: $V_R = \\frac{I}{R} = R \\frac{dQ}{dt}$\n",
    "* Indutor: $V_L = -L \\frac{dI}{dt} = -L \\frac{d^2Q}{dt^2}$\n",
    "* Capacitor: $V_C = \\frac{Q}{C}$\n",
    "\n",
    "Onde, \n",
    "* $V_R$ é a tensão no resistor\n",
    "* $V_L$ é a tensão no indutor\n",
    "* $V_C$ é a tensão no capacitor\n",
    "* $I$ é a corrente elétrica onde $I = \\frac{dQ}{dt}$\n",
    "* $R$ é a resistência\n",
    "* $L$ é a impedância\n",
    "* $C$ é a capacitância\n",
    "* $Q$ é a carga elétrica\n",
    "\n",
    "Ao colocar os componentes em série tem-se que a tensão total é a soma das tensões em cada componente, ou seja:\n",
    "\n",
    "$$V = V_R + V_L + V_C$$\n",
    "Substituindo as tensões de cada componente na equação e assumindo a tensão da fonte como $V=\\epsilon(t)$, obtem\n",
    "\n",
    "$$ L \\frac{d^2Q}{dt^2} - R \\frac{dQ}{dt} + \\frac{Q}{C} + \\epsilon(t) = 0$$\n",
    "\n",
    "Ao qual é observado um analogo a um oscilador harmonico forçado, onde pode ser adotado para fonte de voltagem uma função senoidal:\n",
    "\n",
    "$$\\epsilon(t) = V_0 \\cos{w_0t}$$\n",
    "\n",
    "onde $V_0$ e $w_0$ são amplitude e frequência angular da fonte tensão, para quais se obtem a solução de $Q(t)$, \n",
    "\n",
    "$$Q(t) = A_1e^{s_1t} + A_2e^{s_2t}$$\n",
    "\n",
    "onde $A_1$, $A_2$, $s_1$ e $s_2$ são constantes, e com isso temos que para a fonte senoidal a corrente no circuito segue a equação:\n",
    "\n",
    "$$I(t)=I_0 \\cos{wt}$$\n",
    "\n",
    "A partir da generalização da Lei de Ohm, obtemos:\n",
    "\n",
    "$$ |V| = Z|I| $$\n",
    "\n",
    "onde Z é a impedância, que é a caracteristica geral de um componente elétrico na oposição a passagem de corrente alternada, dada por\n",
    "\n",
    "$$ Z = R + jX$$\n",
    "\n",
    "onde Z é um numero complexo composto pela parte real R e parte imaginaria X, que é a reatancia.\n",
    "\n",
    "Para cada componente temos,\n",
    "\n",
    "$$ V_R = RI \\rightarrow X_R = R$$\n",
    "\n",
    "$$ V_L = L I_0 w \\sin{wt} \\rightarrow  X_L = wL \\text{ e } Z_L = iwL$$\n",
    "\n",
    "$$V_C = -\\frac{I_0}{wC}sin(wt) \\rightarrow X_C = -\\frac{1}{wC} \\text{ e } Z_C = -\\frac{i}{wC}$$\n",
    "\n",
    "Temos então,\n",
    "\n",
    "$$|V| = \\sqrt{V_R^2 + (V_L - V_C)^2}$$\n",
    "$$ V = \\sqrt{(IR)^2 + (IX_L- IX_C)^2}$$\n",
    "$$ V =IZ = I \\sqrt{R^2 + (X_L- X_C)^2}$$\n",
    "\n",
    "Portanto a impedancia do sistema é dado por:\n",
    "\n",
    "$$ Z = \\sqrt{R^2 + (X_L- X_C)^2}$$\n",
    "\n"
   ]
  },
  {
   "cell_type": "markdown",
   "metadata": {},
   "source": [
    "## Primeiro passo: carregando módulos do Python 3\n",
    "\n",
    "Neste ponto você já sabe do _minimum minimorum_ de python para saber que ele tem seu desempenho melhorado significativamente com o uso dos módulos (_modules_) que nada mais são do que bibliotecas desenvolvidas pela comunidade de usuários e desenvolvedores do python. Eles tem em geral propósitos específicos para facilitar a resolução de classes de problemas bem definidos.\n",
    "Alguns dos módulos que usaremos são o [pandas](https://pandas.pydata.org/), [numpy](https://numpy.org/), [matplotlib](https://matplotlib.org/), [scipy](https://www.scipy.org/), [sklearn](https://scikit-learn.org/stable/) e [sympy](https://www.sympy.org/en/index.html). \n",
    "\n",
    "A importação de módulos não é como acontece com a importação de _header files_ em programas em C/C++, que precisam ser declaradas logo no início do programa. No caso do python pode-se importar o módulo apenas no ponto do programa a partir do qual precisaremos dele. Então aqui iremos importar alguns que serão frequentemente usados."
   ]
  },
  {
   "cell_type": "code",
   "execution_count": 1,
   "metadata": {},
   "outputs": [],
   "source": [
    "import pandas as pd\n",
    "import numpy as np\n",
    "import matplotlib\n",
    "from matplotlib import pyplot as plt\n",
    "import statsmodels.api as sm\n",
    "%matplotlib inline "
   ]
  },
  {
   "cell_type": "markdown",
   "metadata": {},
   "source": [
    "# Indutor\n"
   ]
  },
  {
   "cell_type": "markdown",
   "metadata": {},
   "source": [
    "## Segundo passo: introduzindo os dados experimentais\n",
    "\n",
    "\n"
   ]
  },
  {
   "cell_type": "markdown",
   "metadata": {},
   "source": [
    "**ATENÇÃO**: <font color='blue'>neste método é necessário ter um arquivo do tipo CSV para cada conjunto de dados!!</font>"
   ]
  },
  {
   "cell_type": "code",
   "execution_count": 2,
   "metadata": {},
   "outputs": [],
   "source": [
    "def calc_uncertainty(value, decimal_places=4, percent_error=0.002, D_factor=5.0):\n",
    "    \n",
    "    percent_error_i = abs(value * percent_error)\n",
    "    digit_error = abs(D_factor * (10**(-decimal_places))) # 5 digits of last decimal place\n",
    "    return percent_error_i + digit_error\n",
    "\n",
    "rho =[]\n",
    "s_rho = []"
   ]
  },
  {
   "cell_type": "code",
   "execution_count": 3,
   "metadata": {},
   "outputs": [
    {
     "name": "stdout",
     "output_type": "stream",
     "text": [
      "    Frequencia    VL     VC  sFrequencia   sVL   sVC\n",
      "0          103   1.1  273.5         0.05  0.05  0.05\n",
      "1          199   1.9  120.9         0.05  0.05  0.05\n",
      "2          307   2.8   81.1         0.05  0.05  0.05\n",
      "3          403   4.1   65.1         0.05  0.05  0.05\n",
      "4          497   5.3   51.0         0.05  0.05  0.05\n",
      "5          605   6.3   44.8         0.05  0.05  0.05\n",
      "6          699   6.9   36.1         0.05  0.05  0.05\n",
      "7          798   7.2   28.6         0.05  0.05  0.05\n",
      "8          902   9.7   30.3         0.05  0.05  0.05\n",
      "9         1103   9.8   25.0         0.05  0.05  0.05\n",
      "10        1102  11.3   23.7         0.05  0.05  0.05\n",
      "11        1196  11.6   20.4         0.05  0.05  0.05\n",
      "12        1306  11.6   17.4         0.05  0.05  0.05\n",
      "13        1402  14.0   18.0         0.05  0.05  0.05\n",
      "14        1496  14.9   16.8         0.05  0.05  0.05\n",
      "15        1603  15.5   15.3         0.05  0.05  0.05\n",
      "16        1701  17.6   15.4         0.05  0.05  0.05\n",
      "17        1800  19.4   15.2         0.05  0.05  0.05\n",
      "18        1897  20.2   14.2         0.05  0.05  0.05\n",
      "103 +- 0.051000000000000004\n",
      "199 +- 0.051000000000000004\n",
      "307 +- 0.051000000000000004\n",
      "403 +- 0.051000000000000004\n",
      "497 +- 0.051000000000000004\n",
      "605 +- 0.051000000000000004\n",
      "699 +- 0.051000000000000004\n",
      "798 +- 0.051000000000000004\n",
      "902 +- 0.051000000000000004\n",
      "1103 +- 0.051000000000000004\n",
      "1102 +- 0.051000000000000004\n",
      "1196 +- 0.051000000000000004\n",
      "1306 +- 0.051000000000000004\n",
      "1402 +- 0.051000000000000004\n",
      "1496 +- 0.051000000000000004\n",
      "1603 +- 0.051000000000000004\n",
      "1701 +- 0.051000000000000004\n",
      "1800 +- 0.051000000000000004\n",
      "1897 +- 0.051000000000000004\n",
      "\n",
      "1.1 +- 0.0305\n",
      "1.9 +- 0.0305\n",
      "2.8 +- 0.0305\n",
      "4.1 +- 0.0305\n",
      "5.3 +- 0.0305\n",
      "6.3 +- 0.0305\n",
      "6.9 +- 0.0305\n",
      "7.2 +- 0.0305\n",
      "9.7 +- 0.0305\n",
      "9.8 +- 0.0305\n",
      "11.3 +- 0.0305\n",
      "11.6 +- 0.0305\n",
      "11.6 +- 0.0305\n",
      "14.0 +- 0.0305\n",
      "14.9 +- 0.0305\n",
      "15.5 +- 0.0305\n",
      "17.6 +- 0.0305\n",
      "19.4 +- 0.0305\n",
      "20.2 +- 0.0305\n"
     ]
    }
   ],
   "source": [
    "#vc precisa de um arquivo .csv para cada conjunto de dados\n",
    "dados = pd.read_csv(\"metodo1.csv\")\n",
    "print(dados)\n",
    "\n",
    "# Frequencia,VL,VC,sFrequencia,sVL,sVC=\n",
    "x = dados['Frequencia']\n",
    "y = dados['VL'] # Tensão no indutor\n",
    "incx = calc_uncertainty(dados['sFrequencia'], decimal_places=2, percent_error=0.02, D_factor=5.0)\n",
    "incy = calc_uncertainty(dados['sVL'], decimal_places=2, percent_error=0.01, D_factor=3.0)\n",
    "\n",
    "\n",
    "# Format and print x with uncertainties\n",
    "for xi, incxi in zip(x, incx):\n",
    "    print(f\"{xi} +- {incxi}\")\n",
    "\n",
    "\n",
    "print(\"\")\n",
    "# Format and print y with uncertainties\n",
    "for yi, incyi in zip(y, incy):\n",
    "    print(f\"{yi} +- {incyi}\")\n",
    "\n",
    "\n"
   ]
  },
  {
   "cell_type": "markdown",
   "metadata": {},
   "source": [
    "Podemos inicialmente colocar os dados num gráfico para fazer uma primeira visualização exploratória. Para isso usamos o _pyplot_ do _matplotlib_ para graficar os pontos com suas respectivas barras de erro."
   ]
  },
  {
   "cell_type": "code",
   "execution_count": 4,
   "metadata": {},
   "outputs": [
    {
     "data": {
      "image/png": "[encoded data removed]",
      "text/plain": [
       "<Figure size 640x480 with 1 Axes>"
      ]
     },
     "metadata": {},
     "output_type": "display_data"
    },
    {
     "data": {
      "text/plain": [
       "pandas.core.frame.DataFrame"
      ]
     },
     "execution_count": 4,
     "metadata": {},
     "output_type": "execute_result"
    }
   ],
   "source": [
    "# visualizando os dados pelo gráfico (Resistor)\n",
    "plt.figure()\n",
    "plt.errorbar(x, y, incy, incx, 'og', label='Indutor (V)')\n",
    "plt.title(\"Visualização\")\n",
    "plt.xlabel(\"Frequência (Hz)\")\n",
    "plt.ylabel(\"Tensão (V)\")\n",
    "plt.legend()\n",
    "plt.show()\n",
    "\n",
    "type(x.to_frame())"
   ]
  },
  {
   "cell_type": "markdown",
   "metadata": {},
   "source": [
    "Podemos observar que a relação não é linear. Para se fazer um ajuste pelo método dos mínimos quadrados (MMQ) devemos conhecer - ou ao menos modelar - a dependência de y em relação a x (por exemplo, campo elétrico em função da distância). De posse dessa forma funcional é possível aplicar uma linearização aos dados e então sobre o resultado da linearização é possível se fazer um ajuste linear usando MMQ."
   ]
  },
  {
   "cell_type": "markdown",
   "metadata": {},
   "source": [
    "## Linearização dos dados\n",
    "\n",
    "A função que descreve a relação entre tensão e frequência no circuito RLC é dada por é não linearizada."
   ]
  },
  {
   "cell_type": "code",
   "execution_count": 5,
   "metadata": {},
   "outputs": [
    {
     "data": {
      "application/vnd.microsoft.datawrangler.viewer.v0+json": {
       "columns": [
        {
         "name": "index",
         "rawType": "int64",
         "type": "integer"
        },
        {
         "name": "Frequencia",
         "rawType": "int64",
         "type": "integer"
        }
       ],
       "ref": "78fc28b5-d5a3-4d4b-b130-32c9cee78ffd",
       "rows": [
        [
         "0",
         "103"
        ],
        [
         "1",
         "199"
        ],
        [
         "2",
         "307"
        ],
        [
         "3",
         "403"
        ],
        [
         "4",
         "497"
        ],
        [
         "5",
         "605"
        ],
        [
         "6",
         "699"
        ],
        [
         "7",
         "798"
        ],
        [
         "8",
         "902"
        ],
        [
         "9",
         "1103"
        ],
        [
         "10",
         "1102"
        ],
        [
         "11",
         "1196"
        ],
        [
         "12",
         "1306"
        ],
        [
         "13",
         "1402"
        ],
        [
         "14",
         "1496"
        ],
        [
         "15",
         "1603"
        ],
        [
         "16",
         "1701"
        ],
        [
         "17",
         "1800"
        ],
        [
         "18",
         "1897"
        ]
       ],
       "shape": {
        "columns": 1,
        "rows": 19
       }
      },
      "text/plain": [
       "0      103\n",
       "1      199\n",
       "2      307\n",
       "3      403\n",
       "4      497\n",
       "5      605\n",
       "6      699\n",
       "7      798\n",
       "8      902\n",
       "9     1103\n",
       "10    1102\n",
       "11    1196\n",
       "12    1306\n",
       "13    1402\n",
       "14    1496\n",
       "15    1603\n",
       "16    1701\n",
       "17    1800\n",
       "18    1897\n",
       "Name: Frequencia, dtype: int64"
      ]
     },
     "execution_count": 5,
     "metadata": {},
     "output_type": "execute_result"
    }
   ],
   "source": [
    "#linearizando a sequência de valores de x usando numpy\n",
    "# Linearização para ajuste linear: 1/V^2 vs f^2\n",
    "\n",
    "\n",
    "z = x\n",
    "\n",
    "z "
   ]
  },
  {
   "cell_type": "markdown",
   "metadata": {},
   "source": [
    "### Propagação das incertezas na linearização\n",
    "\n",
    "Como nosso caso é linear, não precisamos nos preocupar com a propagação de incertezas."
   ]
  },
  {
   "cell_type": "code",
   "execution_count": 6,
   "metadata": {},
   "outputs": [
    {
     "data": {
      "application/vnd.microsoft.datawrangler.viewer.v0+json": {
       "columns": [
        {
         "name": "index",
         "rawType": "int64",
         "type": "integer"
        },
        {
         "name": "sFrequencia",
         "rawType": "float64",
         "type": "float"
        }
       ],
       "ref": "9441187d-c1ca-47c8-b3fb-87318fcfe7bf",
       "rows": [
        [
         "0",
         "0.051000000000000004"
        ],
        [
         "1",
         "0.051000000000000004"
        ],
        [
         "2",
         "0.051000000000000004"
        ],
        [
         "3",
         "0.051000000000000004"
        ],
        [
         "4",
         "0.051000000000000004"
        ],
        [
         "5",
         "0.051000000000000004"
        ],
        [
         "6",
         "0.051000000000000004"
        ],
        [
         "7",
         "0.051000000000000004"
        ],
        [
         "8",
         "0.051000000000000004"
        ],
        [
         "9",
         "0.051000000000000004"
        ],
        [
         "10",
         "0.051000000000000004"
        ],
        [
         "11",
         "0.051000000000000004"
        ],
        [
         "12",
         "0.051000000000000004"
        ],
        [
         "13",
         "0.051000000000000004"
        ],
        [
         "14",
         "0.051000000000000004"
        ],
        [
         "15",
         "0.051000000000000004"
        ],
        [
         "16",
         "0.051000000000000004"
        ],
        [
         "17",
         "0.051000000000000004"
        ],
        [
         "18",
         "0.051000000000000004"
        ]
       ],
       "shape": {
        "columns": 1,
        "rows": 19
       }
      },
      "text/plain": [
       "0     0.051\n",
       "1     0.051\n",
       "2     0.051\n",
       "3     0.051\n",
       "4     0.051\n",
       "5     0.051\n",
       "6     0.051\n",
       "7     0.051\n",
       "8     0.051\n",
       "9     0.051\n",
       "10    0.051\n",
       "11    0.051\n",
       "12    0.051\n",
       "13    0.051\n",
       "14    0.051\n",
       "15    0.051\n",
       "16    0.051\n",
       "17    0.051\n",
       "18    0.051\n",
       "Name: sFrequencia, dtype: float64"
      ]
     },
     "execution_count": 6,
     "metadata": {},
     "output_type": "execute_result"
    }
   ],
   "source": [
    "#propagando a incerteza por conta da linearização\n",
    "sigma_z = incx\n",
    "sigma_z"
   ]
  },
  {
   "cell_type": "markdown",
   "metadata": {},
   "source": [
    "## Visualizando a linearização\n",
    "\n",
    "Em seguida podemos fazer a visualização dos dados após a linearização refazendo o gráfico com a variável z no lugar de x:"
   ]
  },
  {
   "cell_type": "code",
   "execution_count": 7,
   "metadata": {},
   "outputs": [
    {
     "data": {
      "image/png": "[encoded data removed]",
      "text/plain": [
       "<Figure size 640x480 with 1 Axes>"
      ]
     },
     "metadata": {},
     "output_type": "display_data"
    }
   ],
   "source": [
    "# visualizando os dados linearizados\n",
    "plt.errorbar(z, y, incy, sigma_z, 'o')\n",
    "plt.title(\"Dados linearizados\")\n",
    "plt.xlabel(\"Frequência (Hz)\")\n",
    "plt.ylabel(\"Tensão (V)\")\n",
    "plt.errorbar(z, y, incy, sigma_z, 'o', label='Resistor (V)')\n",
    "plt.legend()\n",
    "plt.show()"
   ]
  },
  {
   "cell_type": "markdown",
   "metadata": {},
   "source": [
    "## MMQ com $ \\chi^2 $\n",
    "\n",
    "Em um ajuste por regressão linear no modo mais simples não se utilizam incertezas associadas aos pontos e também não se obtém as incertezas nos parâmetros ajustados (ou matriz covariância). Além disso utiliza-se como medida da qualidade de ajuste a variável $ R^2 $, que na verdade é uma estimativa de quanto dos dados pode ser descrito pelo modelo/função ajustado(a). Ela é também o quadrado da correlação de Pearson. Em geral se diz que quanto mais próximo de 1 é  $ R^2 $ melhor é o ajuste, mas se for realizado o cálculo de $ R^2 $ para um ajuste a uma grandeza constante o valor será muito próximo de zero, mesmo que se tenha um ajuste bastante verossímil.\n",
    "Para se obter um ajuste de MMQ que tenha significado probabilístico - ou seja tenha um resultado de $ \\chi^2 $ associado - é preciso que se informe ao método de ajuste as incertezas dos pontos experimentais. No caso do ajuste por MMQ somente as incertezas na variável dependente (y) é que são aceitas, portanto se as incertezas em x não são desprezíveis é preciso propagá-las para y. Para uma explicação detalhada do procedimento, verifique a **referência 1**. \n",
    "\n",
    "Para essa propagação completa é preciso fazer:\n",
    "$$ (\\sigma_y)^2= (\\sigma_{y_0})^2 + \\left(\\frac{dy}{dx}\\sigma_x \\right)^2$$\n",
    "onde $\\sigma_{y_0}$ corresponde à incerteza original de y (aquela que vem da própria medida) e $\\frac{dy}{dx}$ pode ser aproximado pelo coeficiente angular de um ajuste linear aos dados. Neste exemplo, $\\sigma_x$ é a variável sigma_z.\n",
    "Para o coeficiente angular podemos realizar uma regressão linear simples (RLS) aos dados e usar com excelente precisão o valor do parâmetro correspondente obtido da RLS, sem se preocupar neste momento com a qualidade do ajuste.\n"
   ]
  },
  {
   "cell_type": "code",
   "execution_count": 8,
   "metadata": {},
   "outputs": [],
   "source": [
    "#ajustando a reta (RLS)\n",
    "xlin = sm.add_constant(z)\n",
    "reglin = sm.OLS(y,xlin)\n",
    "reglin_dat = reglin.fit()\n",
    "f_de_z = reglin_dat.params"
   ]
  },
  {
   "cell_type": "markdown",
   "metadata": {},
   "source": [
    "Para esse ajuste o coeficiente angular é o primeiro parâmetro do vetor f_de_z com o valor:"
   ]
  },
  {
   "cell_type": "code",
   "execution_count": 9,
   "metadata": {},
   "outputs": [
    {
     "name": "stdout",
     "output_type": "stream",
     "text": [
      "coeficiente angular:  0.010293701584930424\n"
     ]
    }
   ],
   "source": [
    "print(\"coeficiente angular: \", f_de_z.iloc[1])"
   ]
  },
  {
   "cell_type": "markdown",
   "metadata": {},
   "source": [
    "Com o coeficiente angular ($dy/dx$) pode-se então fazer a transferência de incertezas para o y:"
   ]
  },
  {
   "cell_type": "code",
   "execution_count": 10,
   "metadata": {},
   "outputs": [
    {
     "data": {
      "application/vnd.microsoft.datawrangler.viewer.v0+json": {
       "columns": [
        {
         "name": "index",
         "rawType": "int64",
         "type": "integer"
        },
        {
         "name": "0",
         "rawType": "float64",
         "type": "float"
        }
       ],
       "ref": "a702b582-8443-4b94-a7a2-d5ce668893fc",
       "rows": [
        [
         "0",
         "0.030504517742792187"
        ],
        [
         "1",
         "0.030504517742792187"
        ],
        [
         "2",
         "0.030504517742792187"
        ],
        [
         "3",
         "0.030504517742792187"
        ],
        [
         "4",
         "0.030504517742792187"
        ],
        [
         "5",
         "0.030504517742792187"
        ],
        [
         "6",
         "0.030504517742792187"
        ],
        [
         "7",
         "0.030504517742792187"
        ],
        [
         "8",
         "0.030504517742792187"
        ],
        [
         "9",
         "0.030504517742792187"
        ],
        [
         "10",
         "0.030504517742792187"
        ],
        [
         "11",
         "0.030504517742792187"
        ],
        [
         "12",
         "0.030504517742792187"
        ],
        [
         "13",
         "0.030504517742792187"
        ],
        [
         "14",
         "0.030504517742792187"
        ],
        [
         "15",
         "0.030504517742792187"
        ],
        [
         "16",
         "0.030504517742792187"
        ],
        [
         "17",
         "0.030504517742792187"
        ],
        [
         "18",
         "0.030504517742792187"
        ]
       ],
       "shape": {
        "columns": 1,
        "rows": 19
       }
      },
      "text/plain": [
       "0     0.030505\n",
       "1     0.030505\n",
       "2     0.030505\n",
       "3     0.030505\n",
       "4     0.030505\n",
       "5     0.030505\n",
       "6     0.030505\n",
       "7     0.030505\n",
       "8     0.030505\n",
       "9     0.030505\n",
       "10    0.030505\n",
       "11    0.030505\n",
       "12    0.030505\n",
       "13    0.030505\n",
       "14    0.030505\n",
       "15    0.030505\n",
       "16    0.030505\n",
       "17    0.030505\n",
       "18    0.030505\n",
       "dtype: float64"
      ]
     },
     "execution_count": 10,
     "metadata": {},
     "output_type": "execute_result"
    }
   ],
   "source": [
    "#transferindo incerteza de z para y\n",
    "incytransf = np.sqrt(np.power(f_de_z.iloc[1]*sigma_z,2)+np.power(incy,2)) \n",
    "incytransf"
   ]
  },
  {
   "cell_type": "markdown",
   "metadata": {},
   "source": [
    "É interessante visualizar novamente os pontos agora apenas com incertezas em y"
   ]
  },
  {
   "cell_type": "code",
   "execution_count": 11,
   "metadata": {},
   "outputs": [
    {
     "data": {
      "image/png": "[encoded data removed]",
      "text/plain": [
       "<Figure size 640x480 with 1 Axes>"
      ]
     },
     "metadata": {},
     "output_type": "display_data"
    }
   ],
   "source": [
    "#plotando gráfico com as incertezas transferidas para a variável dependente (y)\n",
    "plt.errorbar(z, y, incytransf,0,'or')\n",
    "plt.title(\"Dados linearizados, incertezas transferidas\")\n",
    "plt.xlabel(\"Frequência (Hz)\")\n",
    "plt.ylabel(\"Tensão (V)\")\n",
    "plt.show()\n"
   ]
  },
  {
   "cell_type": "markdown",
   "metadata": {},
   "source": [
    "Para se obter as incertezas do ajuste é necessário obter o inverso da **matriz de covariância** do ajuste e a partir dela, os termos da sua diagonal principal. Esses termos correspondem às variâncias dos parâmetros de forma que (veja o capítulo 12 da **referência 2**):\n",
    "$$\\sigma_{p_j}^2=a_{jj}$$\n",
    "onde os termos $a_{jj}$ correspondem a\n",
    "$$ \\mathcal{M}^{-1} = \\begin{pmatrix} a_{00} & a_{01} \\\\ a_{10} & a_{11} \\end{pmatrix}$$\n",
    "No _WLS_ do **statsmodels** a função HC0 ('_HCzero_') retorna diretamente as incertezas do ajuste."
   ]
  },
  {
   "cell_type": "code",
   "execution_count": 12,
   "metadata": {},
   "outputs": [
    {
     "name": "stdout",
     "output_type": "stream",
     "text": [
      "-0.2950147685413096 0.010293701584930431\n",
      "0.21455880678288453 0.0002686233257654783\n"
     ]
    }
   ],
   "source": [
    "#criando os 'pesos' a partir da incerteza\n",
    "ws = 1/(incytransf**2)\n",
    "reglinw = sm.WLS(y,xlin,ws)\n",
    "result_rlw = reglinw.fit()\n",
    "fitpars = result_rlw.params\n",
    "fiterrs = result_rlw.HC0_se\n",
    "print(fitpars.iloc[0],fitpars.iloc[1])\n",
    "print(fiterrs.iloc[0],fiterrs.iloc[1])"
   ]
  },
  {
   "cell_type": "markdown",
   "metadata": {},
   "source": [
    "**ATENÇÃO:** note que os parâmetros do ajuste **mudaram** quando as incertezas foram utilizadas como _pesos_ no ajuste."
   ]
  },
  {
   "cell_type": "code",
   "execution_count": 13,
   "metadata": {},
   "outputs": [
    {
     "name": "stdout",
     "output_type": "stream",
     "text": [
      "coef. angular= 0.01 +- 0.0\n",
      "coef. linear= -0.3 +- 0.21\n"
     ]
    }
   ],
   "source": [
    "#note que o statsmodels retorna os parâmetros em ordem inversa em relação aos outros dois métodos\n",
    "p_0 = fitpars.iloc[1] #coef ang\n",
    "p_1 = fitpars.iloc[0] #coef lin\n",
    "#note que não há raiz quadrada\n",
    "s_p_0 = fiterrs.iloc[1] #incert p_0\n",
    "s_p_1 = fiterrs.iloc[0] #incert p_1\n",
    "rp_0 = np.round(p_0,2)\n",
    "rp_1 = np.round(p_1,2)\n",
    "rs_p_0 = np.round(s_p_0,2)\n",
    "rs_p_1 = np.round(s_p_1,2)\n",
    "print(\"coef. angular=\",rp_0,\"+-\",rs_p_0)\n",
    "print(\"coef. linear=\",rp_1,\"+-\",rs_p_1)"
   ]
  },
  {
   "cell_type": "markdown",
   "metadata": {},
   "source": [
    "## Graficando o ajuste aos pontos\n",
    "Agora colocamos a linha reta referente aos pontos da seguinte forma:"
   ]
  },
  {
   "cell_type": "code",
   "execution_count": 14,
   "metadata": {},
   "outputs": [
    {
     "data": {
      "text/plain": [
       "[<matplotlib.lines.Line2D at 0x7cfccf5ba210>]"
      ]
     },
     "execution_count": 14,
     "metadata": {},
     "output_type": "execute_result"
    },
    {
     "data": {
      "image/png": "[encoded data removed]",
      "text/plain": [
       "<Figure size 640x480 with 1 Axes>"
      ]
     },
     "metadata": {},
     "output_type": "display_data"
    }
   ],
   "source": [
    "xline = z\n",
    "yline = fitpars.iloc[0] + fitpars.iloc[1] * z\n",
    "plt.errorbar(z, y, incytransf,0,'or')\n",
    "plt.title(\"Dados linearizados, incertezas transferidas com linha de ajuste\")\n",
    "plt.xlabel(\"Frequência (Hz)\")\n",
    "plt.ylabel(\"Tensão (V)\")\n",
    "#incluindo a linha do ajuste linear, k=preto, '--' = linha tracejada\n",
    "plt.plot(xline, yline, 'k--')"
   ]
  },
  {
   "cell_type": "markdown",
   "metadata": {},
   "source": [
    "## Qualidade do ajuste\n",
    "Existem várias grandezas utilizadas como medida de qualidade do ajuste: $\\chi^2_{red}$ (qui-quadrado reduzido), $R^2$ e gráfico de resíduos.\n",
    "\n",
    "\n",
    "\n",
    " ### 1. Teste de $\\chi^2$ ou $\\chi^2_{red}$\n",
    " O teste de $\\chi^2$ baseia-se na expectativa de que o $\\chi^2_{red}$ seja muito próximo do valor 1 (um). Para uma explicação deste teste veja o capítulo 14 da **referência 2**.\n",
    " Alguns cuidados devem ser tomados na interpretação de $\\chi^2_{red}$. Em geral se os valores se afastam muito de 1 (ou $\\chi^2_{red}$>>1 ou $\\chi^2_{red}\\approx 0$ há problemas. O primeiro dos problemas é com o a estimação da incerteza dos dados experimentais. Quando a subestimação das incertezas o valor de $\\chi^2_{red}$ fica artificialmente maior que 1 e o contrário também é verdade, incertezas superestimadas levam a um reduzido valor de $\\chi^2_{red}$. O último caso é sempre o sintoma de superestimação de incertezas. No entanto, quando $\\chi^2_{red}$>>1 nem sempre o problema é de subestimação de incertezas, mas pode ser que a função ajustada (ou modelo) não é adequado para descrever os dados experimentais (por exemplo, usar uma reta em dados que seriam melhor descritos por um polinômio do segundo grau). Não existe uma única forma para se calcular o $\\chi^2_{red}$ com o **statsmodel**, mas podemos usar o **numpy** com os resultados do _WLS_ :"
   ]
  },
  {
   "cell_type": "code",
   "execution_count": 15,
   "metadata": {},
   "outputs": [
    {
     "name": "stdout",
     "output_type": "stream",
     "text": [
      "9466.111132418915\n"
     ]
    },
    {
     "data": {
      "text/plain": [
       "np.float64(556.8300666128773)"
      ]
     },
     "execution_count": 15,
     "metadata": {},
     "output_type": "execute_result"
    }
   ],
   "source": [
    "#calulando chi^2_red\n",
    "invpars = fitpars.iloc[1],fitpars.iloc[0]\n",
    "yhat = np.polyval(invpars, z)\n",
    "chi_squared = np.sum(((yhat - y)/incytransf) ** 2)\n",
    "print(chi_squared)\n",
    "chi2_red = chi_squared/(len(z)-2)\n",
    "chi2_red"
   ]
  },
  {
   "cell_type": "markdown",
   "metadata": {},
   "source": [
    "### 2. Valor de $R^2$\n",
    " O $R^2$ é simplesmente o quadrado do coeficiente de correlação. O coeficiente de correlação, geralmente denotado por $\\rho$ (também conhecido como [coeficiente de correlação de Pearson](https://pt.wikipedia.org/wiki/Coeficiente_de_correla%C3%A7%C3%A3o_de_Pearson)). Como o valor de $\\rho$ é limitado\n",
    " $$-1<\\rho<1$$\n",
    " o valor de $R^2$ quadrado também será limitado ($0<R^2<1$), interpretando-se a qualidade do ajuste como sendo tão melhor quanto mais próxima de 1. No entanto, esse é um equívoco, pois assim como $\\rho$, $R^2$ dá uma medida da intensidade da correlação entre os valores $x$ e $y$ dos pontos experimentais. Se o ajuste de reta proposto tiver um coeficiente angular com valor muito baixo comparado ao do coeficiente linear combinado com flutuações dos pontos moderadas (pouco mais de 1%) o valor de $R^2$ pode facilmente cair abaixo de 0.5, o que levaria à uma conclusão possivelmente errônea de má qualidade de ajuste (ou de modelo). Por outro lado, um conjunto de pontos levemente não linear (tipo $x^{3/2}$) pode ser ajustado por uma reta com $R^2$>0.9, indicando erroneamente que o ajuste é bom.\n",
    "**Portanto deve-se evitar $R^2$ como única medida de qualidade de ajuste.**\n",
    "\n",
    "O **statsmodels** tem uma forma bem simples de se obter o $R^2$ a partir dos resultados do ajuste via _WLS_ :\n"
   ]
  },
  {
   "cell_type": "code",
   "execution_count": 16,
   "metadata": {},
   "outputs": [
    {
     "data": {
      "text/plain": [
       "np.float64(0.986)"
      ]
     },
     "execution_count": 16,
     "metadata": {},
     "output_type": "execute_result"
    }
   ],
   "source": [
    "np.round(result_rlw.rsquared,3)"
   ]
  },
  {
   "cell_type": "markdown",
   "metadata": {},
   "source": [
    "### 3. Gráfico de resíduos\n",
    "\n",
    "O gráfico de resíduos é sempre uma boa ferramenta e deve sempre que possível ser usada complementarmente a outras medidas de qualidade, principalmente quando se usa $R^2$, que jamais deve ser usado sozinho. \n",
    "Para se fazer um gráfico de ajuste faz-se um gráfico com o mesmo eixo $x$ dos dados originais, enquanto que no eixo vertical devem ser colocados os valores da diferença $(\\hat{y}-y)$, onde $\\hat{y}$ são os valores calculados para cada $x$ a partir dos parâmetros do ajuste.\n",
    "\n",
    "Um bom ajuste deverá mostrar um gráfico de resíduos com os pontos distribuídos de maneira aleatória acima e abaixo do eixo $x$. Na célula abaixo é apresentada a confecção de um gráfico de resíduos. Os dados usados neste exemplo _parecem_ razoáveis."
   ]
  },
  {
   "cell_type": "code",
   "execution_count": 17,
   "metadata": {
    "scrolled": true
   },
   "outputs": [
    {
     "data": {
      "text/plain": [
       "<matplotlib.lines.Line2D at 0x7cfccf7e5bd0>"
      ]
     },
     "execution_count": 17,
     "metadata": {},
     "output_type": "execute_result"
    },
    {
     "data": {
      "image/png": "[encoded data removed]",
      "text/plain": [
       "<Figure size 640x480 with 1 Axes>"
      ]
     },
     "metadata": {},
     "output_type": "display_data"
    }
   ],
   "source": [
    "resid = (yhat - y)\n",
    "plt.plot(z, resid, 'or')\n",
    "plt.title(\"Gráfico de resíduos\")\n",
    "plt.xlabel(\"Frequência (Hz)\")\n",
    "plt.ylabel(\"Resíduos\")\n",
    "plt.axhline(y=0, color='k', linestyle='-')"
   ]
  },
  {
   "cell_type": "code",
   "execution_count": 18,
   "metadata": {},
   "outputs": [],
   "source": [
    "aL = p_0\n",
    "s_aL = s_p_0"
   ]
  },
  {
   "cell_type": "markdown",
   "metadata": {},
   "source": [
    "# Capacitor"
   ]
  },
  {
   "cell_type": "code",
   "execution_count": 19,
   "metadata": {},
   "outputs": [
    {
     "name": "stdout",
     "output_type": "stream",
     "text": [
      "    Frequencia    VL     VC  sFrequencia   sVL   sVC\n",
      "0          103   1.1  273.5         0.05  0.05  0.05\n",
      "1          199   1.9  120.9         0.05  0.05  0.05\n",
      "2          307   2.8   81.1         0.05  0.05  0.05\n",
      "3          403   4.1   65.1         0.05  0.05  0.05\n",
      "4          497   5.3   51.0         0.05  0.05  0.05\n",
      "5          605   6.3   44.8         0.05  0.05  0.05\n",
      "6          699   6.9   36.1         0.05  0.05  0.05\n",
      "7          798   7.2   28.6         0.05  0.05  0.05\n",
      "8          902   9.7   30.3         0.05  0.05  0.05\n",
      "9         1103   9.8   25.0         0.05  0.05  0.05\n",
      "10        1102  11.3   23.7         0.05  0.05  0.05\n",
      "11        1196  11.6   20.4         0.05  0.05  0.05\n",
      "12        1306  11.6   17.4         0.05  0.05  0.05\n",
      "13        1402  14.0   18.0         0.05  0.05  0.05\n",
      "14        1496  14.9   16.8         0.05  0.05  0.05\n",
      "15        1603  15.5   15.3         0.05  0.05  0.05\n",
      "16        1701  17.6   15.4         0.05  0.05  0.05\n",
      "17        1800  19.4   15.2         0.05  0.05  0.05\n",
      "18        1897  20.2   14.2         0.05  0.05  0.05\n",
      "103.0 +- 0.051000000000000004\n",
      "199.0 +- 0.051000000000000004\n",
      "307.0 +- 0.051000000000000004\n",
      "403.0 +- 0.051000000000000004\n",
      "497.0 +- 0.051000000000000004\n",
      "605.0 +- 0.051000000000000004\n",
      "699.0 +- 0.051000000000000004\n",
      "798.0 +- 0.051000000000000004\n",
      "902.0 +- 0.051000000000000004\n",
      "1103.0 +- 0.051000000000000004\n",
      "1102.0 +- 0.051000000000000004\n",
      "1196.0 +- 0.051000000000000004\n",
      "1306.0 +- 0.051000000000000004\n",
      "1402.0 +- 0.051000000000000004\n",
      "1496.0 +- 0.051000000000000004\n",
      "1603.0 +- 0.051000000000000004\n",
      "1701.0 +- 0.051000000000000004\n",
      "1800.0 +- 0.051000000000000004\n",
      "1897.0 +- 0.051000000000000004\n",
      "\n",
      "273.5 +- 0.0305\n",
      "120.9 +- 0.0305\n",
      "81.1 +- 0.0305\n",
      "65.1 +- 0.0305\n",
      "51.0 +- 0.0305\n",
      "44.8 +- 0.0305\n",
      "36.1 +- 0.0305\n",
      "28.6 +- 0.0305\n",
      "30.3 +- 0.0305\n",
      "25.0 +- 0.0305\n",
      "23.7 +- 0.0305\n",
      "20.4 +- 0.0305\n",
      "17.4 +- 0.0305\n",
      "18.0 +- 0.0305\n",
      "16.8 +- 0.0305\n",
      "15.3 +- 0.0305\n",
      "15.4 +- 0.0305\n",
      "15.2 +- 0.0305\n",
      "14.2 +- 0.0305\n"
     ]
    }
   ],
   "source": [
    "#vc precisa de um arquivo .csv para cada conjunto de dados\n",
    "\n",
    "print(dados)\n",
    "x = dados['Frequencia'].astype(float) # Frequência\n",
    "y = dados['VC'].astype(float) # Tensão no capacitor\n",
    "incx = calc_uncertainty(dados['sFrequencia'], decimal_places=2, percent_error=0.02, D_factor=5.0)\n",
    "incy = calc_uncertainty(dados['sVC'], decimal_places=2, percent_error=0.01, D_factor=3.0)\n",
    "\n",
    "# Format and print x with uncertainties\n",
    "for xi, incxi in zip(x, incx):\n",
    "    print(f\"{xi} +- {incxi}\")\n",
    "\n",
    "\n",
    "print(\"\")\n",
    "# Format and print y with uncertainties\n",
    "for yi, incyi in zip(y, incy):\n",
    "    print(f\"{yi} +- {incyi}\")\n",
    "\n"
   ]
  },
  {
   "cell_type": "markdown",
   "metadata": {},
   "source": [
    "Podemos inicialmente colocar os dados num gráfico para fazer uma primeira visualização exploratória. Para isso usamos o _pyplot_ do _matplotlib_ para graficar os pontos com suas respectivas barras de erro."
   ]
  },
  {
   "cell_type": "code",
   "execution_count": 20,
   "metadata": {},
   "outputs": [
    {
     "data": {
      "image/png": "[encoded data removed]",
      "text/plain": [
       "<Figure size 640x480 with 1 Axes>"
      ]
     },
     "metadata": {},
     "output_type": "display_data"
    },
    {
     "data": {
      "text/plain": [
       "pandas.core.frame.DataFrame"
      ]
     },
     "execution_count": 20,
     "metadata": {},
     "output_type": "execute_result"
    }
   ],
   "source": [
    "# visualizando os dados pelo gráfico\n",
    "\n",
    "plt.figure() \n",
    "plt.errorbar(x, y, incy, incx,'og')\n",
    "plt.title(\"Visualização\")\n",
    "plt.xlabel(\"Frequência (Hz)\")\n",
    "plt.ylabel(\"Tensão (V)\")\n",
    "plt.show()\n",
    "\n",
    "type(x.to_frame())"
   ]
  },
  {
   "cell_type": "markdown",
   "metadata": {},
   "source": [
    "Podemos observar que a relação não é linear. Para se fazer um ajuste pelo método dos mínimos quadrados (MMQ) devemos conhecer - ou ao menos modelar - a dependência de y em relação a x (por exemplo, campo elétrico em função da distância). De posse dessa forma funcional é possível aplicar uma linearização aos dados e então sobre o resultado da linearização é possível se fazer um ajuste linear usando MMQ."
   ]
  },
  {
   "cell_type": "markdown",
   "metadata": {},
   "source": [
    "## Linearização dos dados\n",
    "\n",
    "temos que a relaçao de tensão e frequÊncia do capacitor é dada por:\n",
    "$$ V(s) = \\frac{1}{sC}$$\n",
    "\n",
    "entao linearizando temos que:\n",
    "\n",
    "$$ z = \\frac{1}{s}$$"
   ]
  },
  {
   "cell_type": "code",
   "execution_count": 21,
   "metadata": {},
   "outputs": [
    {
     "data": {
      "application/vnd.microsoft.datawrangler.viewer.v0+json": {
       "columns": [
        {
         "name": "index",
         "rawType": "int64",
         "type": "integer"
        },
        {
         "name": "Frequencia",
         "rawType": "float64",
         "type": "float"
        }
       ],
       "ref": "2281e151-03b7-41e2-a528-bac4ff5e0482",
       "rows": [
        [
         "0",
         "0.009708737864077669"
        ],
        [
         "1",
         "0.005025125628140704"
        ],
        [
         "2",
         "0.003257328990228013"
        ],
        [
         "3",
         "0.0024813895781637717"
        ],
        [
         "4",
         "0.002012072434607646"
        ],
        [
         "5",
         "0.001652892561983471"
        ],
        [
         "6",
         "0.001430615164520744"
        ],
        [
         "7",
         "0.0012531328320802004"
        ],
        [
         "8",
         "0.0011086474501108647"
        ],
        [
         "9",
         "0.0009066183136899365"
        ],
        [
         "10",
         "0.0009074410163339383"
        ],
        [
         "11",
         "0.0008361204013377926"
        ],
        [
         "12",
         "0.0007656967840735069"
        ],
        [
         "13",
         "0.0007132667617689016"
        ],
        [
         "14",
         "0.0006684491978609625"
        ],
        [
         "15",
         "0.0006238303181534623"
        ],
        [
         "16",
         "0.0005878894767783657"
        ],
        [
         "17",
         "0.0005555555555555556"
        ],
        [
         "18",
         "0.0005271481286241434"
        ]
       ],
       "shape": {
        "columns": 1,
        "rows": 19
       }
      },
      "text/plain": [
       "0     0.009709\n",
       "1     0.005025\n",
       "2     0.003257\n",
       "3     0.002481\n",
       "4     0.002012\n",
       "5     0.001653\n",
       "6     0.001431\n",
       "7     0.001253\n",
       "8     0.001109\n",
       "9     0.000907\n",
       "10    0.000907\n",
       "11    0.000836\n",
       "12    0.000766\n",
       "13    0.000713\n",
       "14    0.000668\n",
       "15    0.000624\n",
       "16    0.000588\n",
       "17    0.000556\n",
       "18    0.000527\n",
       "Name: Frequencia, dtype: float64"
      ]
     },
     "execution_count": 21,
     "metadata": {},
     "output_type": "execute_result"
    }
   ],
   "source": [
    "#linearizando a sequência de valores de x usando numpy\n",
    "z = np.power(x,-1)\n",
    "z"
   ]
  },
  {
   "cell_type": "code",
   "execution_count": 22,
   "metadata": {},
   "outputs": [
    {
     "data": {
      "application/vnd.microsoft.datawrangler.viewer.v0+json": {
       "columns": [
        {
         "name": "index",
         "rawType": "int64",
         "type": "integer"
        },
        {
         "name": "0",
         "rawType": "float64",
         "type": "float"
        }
       ],
       "ref": "709d8257-106d-4593-b068-2ee8a933abce",
       "rows": [
        [
         "0",
         "4.807239136582147e-06"
        ],
        [
         "1",
         "1.2878462665084215e-06"
        ],
        [
         "2",
         "5.411197996795722e-07"
        ],
        [
         "3",
         "3.1402200616960884e-07"
        ],
        [
         "4",
         "2.0647020958750495e-07"
        ],
        [
         "5",
         "1.3933474489447444e-07"
        ],
        [
         "6",
         "1.0437964719679248e-07"
        ],
        [
         "7",
         "8.008743663670454e-08"
        ],
        [
         "8",
         "6.268405760050344e-08"
        ],
        [
         "9",
         "4.19197951026172e-08"
        ],
        [
         "10",
         "4.1995909104383717e-08"
        ],
        [
         "11",
         "3.5653963602196844e-08"
        ],
        [
         "12",
         "2.9900869822166044e-08"
        ],
        [
         "13",
         "2.594622314565905e-08"
        ],
        [
         "14",
         "2.278804083616918e-08"
        ],
        [
         "15",
         "1.9847377558219948e-08"
        ],
        [
         "16",
         "1.762631588224377e-08"
        ],
        [
         "17",
         "1.5740740740740743e-08"
        ],
        [
         "18",
         "1.4172142625108758e-08"
        ]
       ],
       "shape": {
        "columns": 1,
        "rows": 19
       }
      },
      "text/plain": [
       "0     4.807239e-06\n",
       "1     1.287846e-06\n",
       "2     5.411198e-07\n",
       "3     3.140220e-07\n",
       "4     2.064702e-07\n",
       "5     1.393347e-07\n",
       "6     1.043796e-07\n",
       "7     8.008744e-08\n",
       "8     6.268406e-08\n",
       "9     4.191980e-08\n",
       "10    4.199591e-08\n",
       "11    3.565396e-08\n",
       "12    2.990087e-08\n",
       "13    2.594622e-08\n",
       "14    2.278804e-08\n",
       "15    1.984738e-08\n",
       "16    1.762632e-08\n",
       "17    1.574074e-08\n",
       "18    1.417214e-08\n",
       "dtype: float64"
      ]
     },
     "execution_count": 22,
     "metadata": {},
     "output_type": "execute_result"
    }
   ],
   "source": [
    "#propagando a incerteza por conta da linearização\n",
    "sigma_z = 1/(x**2) * incx\n",
    "sigma_z"
   ]
  },
  {
   "cell_type": "markdown",
   "metadata": {},
   "source": [
    "## Visualizando a linearização\n",
    "\n",
    "Em seguida podemos fazer a visualização dos dados após a linearização refazendo o gráfico com a variável z no lugar de x:"
   ]
  },
  {
   "cell_type": "code",
   "execution_count": 23,
   "metadata": {},
   "outputs": [
    {
     "data": {
      "image/png": "[encoded data removed]",
      "text/plain": [
       "<Figure size 640x480 with 1 Axes>"
      ]
     },
     "metadata": {},
     "output_type": "display_data"
    }
   ],
   "source": [
    "# visualizando os dados linearizados\n",
    "plt.errorbar(z, y, incy,sigma_z,'o')\n",
    "plt.title(\"Dados linearizados\")\n",
    "plt.xlabel(\"1/Frequência (Hz)\")\n",
    "plt.ylabel(\"Tensão (V)\")\n",
    "plt.show()"
   ]
  },
  {
   "cell_type": "markdown",
   "metadata": {},
   "source": [
    "## MMQ com $ \\chi^2 $\n",
    "\n",
    "Em um ajuste por regressão linear no modo mais simples não se utilizam incertezas associadas aos pontos e também não se obtém as incertezas nos parâmetros ajustados (ou matriz covariância). Além disso utiliza-se como medida da qualidade de ajuste a variável $ R^2 $, que na verdade é uma estimativa de quanto dos dados pode ser descrito pelo modelo/função ajustado(a). Ela é também o quadrado da correlação de Pearson. Em geral se diz que quanto mais próximo de 1 é  $ R^2 $ melhor é o ajuste, mas se for realizado o cálculo de $ R^2 $ para um ajuste a uma grandeza constante o valor será muito próximo de zero, mesmo que se tenha um ajuste bastante verossímil.\n",
    "Para se obter um ajuste de MMQ que tenha significado probabilístico - ou seja tenha um resultado de $ \\chi^2 $ associado - é preciso que se informe ao método de ajuste as incertezas dos pontos experimentais. No caso do ajuste por MMQ somente as incertezas na variável dependente (y) é que são aceitas, portanto se as incertezas em x não são desprezíveis é preciso propagá-las para y. Para uma explicação detalhada do procedimento, verifique a **referência 1**. \n",
    "\n",
    "Para essa propagação completa é preciso fazer:\n",
    "$$ (\\sigma_y)^2= (\\sigma_{y_0})^2 + \\left(\\frac{dy}{dx}\\sigma_x \\right)^2$$\n",
    "onde $\\sigma_{y_0}$ corresponde à incerteza original de y (aquela que vem da própria medida) e $\\frac{dy}{dx}$ pode ser aproximado pelo coeficiente angular de um ajuste linear aos dados. Neste exemplo, $\\sigma_x$ é a variável sigma_z.\n",
    "Para o coeficiente angular podemos realizar uma regressão linear simples (RLS) aos dados e usar com excelente precisão o valor do parâmetro correspondente obtido da RLS, sem se preocupar neste momento com a qualidade do ajuste.\n"
   ]
  },
  {
   "cell_type": "code",
   "execution_count": 24,
   "metadata": {},
   "outputs": [],
   "source": [
    "#ajustando a reta (RLS)\n",
    "xlin = sm.add_constant(z)\n",
    "reglin = sm.OLS(y,xlin)\n",
    "reglin_dat = reglin.fit()\n",
    "f_de_z = reglin_dat.params"
   ]
  },
  {
   "cell_type": "markdown",
   "metadata": {},
   "source": [
    "Para esse ajuste o coeficiente angular é o primeiro parâmetro do vetor f_de_z com o valor:"
   ]
  },
  {
   "cell_type": "code",
   "execution_count": 25,
   "metadata": {},
   "outputs": [
    {
     "name": "stdout",
     "output_type": "stream",
     "text": [
      "coeficiente angular:  27517.901901895963\n"
     ]
    }
   ],
   "source": [
    "print(\"coeficiente angular: \", f_de_z.iloc[1])"
   ]
  },
  {
   "cell_type": "markdown",
   "metadata": {},
   "source": [
    "Com o coeficiente angular ($dy/dx$) pode-se então fazer a transferência de incertezas para o y:"
   ]
  },
  {
   "cell_type": "code",
   "execution_count": 26,
   "metadata": {},
   "outputs": [
    {
     "data": {
      "application/vnd.microsoft.datawrangler.viewer.v0+json": {
       "columns": [
        {
         "name": "index",
         "rawType": "int64",
         "type": "integer"
        },
        {
         "name": "0",
         "rawType": "float64",
         "type": "float"
        }
       ],
       "ref": "95850040-8655-4abf-bdf8-08a500d73da1",
       "rows": [
        [
         "0",
         "0.13575568841313446"
        ],
        [
         "1",
         "0.046756395019182544"
        ],
        [
         "2",
         "0.03394077844172611"
        ],
        [
         "3",
         "0.03170048579961782"
        ],
        [
         "4",
         "0.031024681868818193"
        ],
        [
         "5",
         "0.030740056740754446"
        ],
        [
         "6",
         "0.03063494994890195"
        ],
        [
         "7",
         "0.030579517702568833"
        ],
        [
         "8",
         "0.030548738049787232"
        ],
        [
         "9",
         "0.030521806395219318"
        ],
        [
         "10",
         "0.03052188562667646"
        ],
        [
         "11",
         "0.030515776262684546"
        ],
        [
         "12",
         "0.030511096587697354"
        ],
        [
         "13",
         "0.03050835583033283"
        ],
        [
         "14",
         "0.030506445682230404"
        ],
        [
         "15",
         "0.03050488958785193"
        ],
        [
         "16",
         "0.030503856527592348"
        ],
        [
         "17",
         "0.030503075595640146"
        ],
        [
         "18",
         "0.030502493182557076"
        ]
       ],
       "shape": {
        "columns": 1,
        "rows": 19
       }
      },
      "text/plain": [
       "0     0.135756\n",
       "1     0.046756\n",
       "2     0.033941\n",
       "3     0.031700\n",
       "4     0.031025\n",
       "5     0.030740\n",
       "6     0.030635\n",
       "7     0.030580\n",
       "8     0.030549\n",
       "9     0.030522\n",
       "10    0.030522\n",
       "11    0.030516\n",
       "12    0.030511\n",
       "13    0.030508\n",
       "14    0.030506\n",
       "15    0.030505\n",
       "16    0.030504\n",
       "17    0.030503\n",
       "18    0.030502\n",
       "dtype: float64"
      ]
     },
     "execution_count": 26,
     "metadata": {},
     "output_type": "execute_result"
    }
   ],
   "source": [
    "#transferindo incerteza de z para y\n",
    "incytransf = np.sqrt(np.power(f_de_z.iloc[1]*sigma_z,2)+np.power(incy,2)) \n",
    "incytransf"
   ]
  },
  {
   "cell_type": "markdown",
   "metadata": {},
   "source": [
    "É interessante visualizar novamente os pontos agora apenas com incertezas em y"
   ]
  },
  {
   "cell_type": "code",
   "execution_count": 27,
   "metadata": {},
   "outputs": [
    {
     "data": {
      "image/png": "[encoded data removed]",
      "text/plain": [
       "<Figure size 640x480 with 1 Axes>"
      ]
     },
     "metadata": {},
     "output_type": "display_data"
    }
   ],
   "source": [
    "#plotando gráfico com as incertezas transferidas para a variável dependente (y)\n",
    "plt.errorbar(z, y, incytransf,0,'or')\n",
    "plt.title(\"Dados linearizados, incertezas transferidas\")\n",
    "plt.xlabel(\"Frequência (Hz)\")\n",
    "plt.ylabel(\"Tensão (V)\")\n",
    "plt.show()\n"
   ]
  },
  {
   "cell_type": "markdown",
   "metadata": {},
   "source": [
    "Para se obter as incertezas do ajuste é necessário obter o inverso da **matriz de covariância** do ajuste e a partir dela, os termos da sua diagonal principal. Esses termos correspondem às variâncias dos parâmetros de forma que (veja o capítulo 12 da **referência 2**):\n",
    "$$\\sigma_{p_j}^2=a_{jj}$$\n",
    "onde os termos $a_{jj}$ correspondem a\n",
    "$$ \\mathcal{M}^{-1} = \\begin{pmatrix} a_{00} & a_{01} \\\\ a_{10} & a_{11} \\end{pmatrix}$$\n",
    "No _WLS_ do **statsmodels** a função HC0 ('_HCzero_') retorna diretamente as incertezas do ajuste."
   ]
  },
  {
   "cell_type": "code",
   "execution_count": 28,
   "metadata": {},
   "outputs": [
    {
     "name": "stdout",
     "output_type": "stream",
     "text": [
      "0.07865441355684721 25416.20125985807\n",
      "1.034329786718478 896.7796220137972\n"
     ]
    }
   ],
   "source": [
    "#criando os 'pesos' a partir da incerteza\n",
    "ws = 1/(incytransf**2)\n",
    "reglinw = sm.WLS(y,xlin,ws)\n",
    "result_rlw = reglinw.fit()\n",
    "fitpars = result_rlw.params\n",
    "fiterrs = result_rlw.HC0_se\n",
    "print(fitpars.iloc[0],fitpars.iloc[1])\n",
    "print(fiterrs.iloc[0],fiterrs.iloc[1])"
   ]
  },
  {
   "cell_type": "markdown",
   "metadata": {},
   "source": [
    "**ATENÇÃO:** note que os parâmetros do ajuste **mudaram** quando as incertezas foram utilizadas como _pesos_ no ajuste."
   ]
  },
  {
   "cell_type": "code",
   "execution_count": 29,
   "metadata": {},
   "outputs": [
    {
     "name": "stdout",
     "output_type": "stream",
     "text": [
      "coef. angular= 25416.2 +- 896.78\n",
      "coef. linear= 0.08 +- 1.03\n"
     ]
    }
   ],
   "source": [
    "#note que o statsmodels retorna os parâmetros em ordem inversa em relação aos outros dois métodos\n",
    "p_0 = fitpars.iloc[1] #coef ang\n",
    "p_1 = fitpars.iloc[0] #coef lin\n",
    "#note que não há raiz quadrada\n",
    "s_p_0 = fiterrs.iloc[1] #incert p_0\n",
    "s_p_1 = fiterrs.iloc[0] #incert p_1\n",
    "rp_0 = np.round(p_0,2)\n",
    "rp_1 = np.round(p_1,2)\n",
    "rs_p_0 = np.round(s_p_0,2)\n",
    "rs_p_1 = np.round(s_p_1,2)\n",
    "print(\"coef. angular=\",rp_0,\"+-\",rs_p_0)\n",
    "print(\"coef. linear=\",rp_1,\"+-\",rs_p_1)"
   ]
  },
  {
   "cell_type": "markdown",
   "metadata": {},
   "source": [
    "## Graficando o ajuste aos pontos\n",
    "Agora colocamos a linha reta referente aos pontos da seguinte forma:"
   ]
  },
  {
   "cell_type": "code",
   "execution_count": 30,
   "metadata": {},
   "outputs": [
    {
     "data": {
      "text/plain": [
       "[<matplotlib.lines.Line2D at 0x7cfccf4b4910>]"
      ]
     },
     "execution_count": 30,
     "metadata": {},
     "output_type": "execute_result"
    },
    {
     "data": {
      "image/png": "[encoded data removed]",
      "text/plain": [
       "<Figure size 640x480 with 1 Axes>"
      ]
     },
     "metadata": {},
     "output_type": "display_data"
    }
   ],
   "source": [
    "xline = z\n",
    "yline = fitpars.iloc[0] + fitpars.iloc[1] * z\n",
    "plt.errorbar(z, y, incytransf,0,'or')\n",
    "plt.title(\"Dados linearizados, incertezas transferidas com linha de ajuste\")\n",
    "plt.xlabel(\"Frequência (Hz)\")\n",
    "plt.ylabel(\"Tensão (V)\")\n",
    "#incluindo a linha do ajuste linear, k=preto, '--' = linha tracejada\n",
    "plt.plot(xline, yline, 'k--')"
   ]
  },
  {
   "cell_type": "markdown",
   "metadata": {},
   "source": [
    "## Qualidade do ajuste\n",
    "Existem várias grandezas utilizadas como medida de qualidade do ajuste: $\\chi^2_{red}$ (qui-quadrado reduzido), $R^2$ e gráfico de resíduos.\n",
    "\n",
    "\n",
    "\n",
    " ### 1. Teste de $\\chi^2$ ou $\\chi^2_{red}$\n",
    " O teste de $\\chi^2$ baseia-se na expectativa de que o $\\chi^2_{red}$ seja muito próximo do valor 1 (um). Para uma explicação deste teste veja o capítulo 14 da **referência 2**.\n",
    " Alguns cuidados devem ser tomados na interpretação de $\\chi^2_{red}$. Em geral se os valores se afastam muito de 1 (ou $\\chi^2_{red}$>>1 ou $\\chi^2_{red}\\approx 0$ há problemas. O primeiro dos problemas é com o a estimação da incerteza dos dados experimentais. Quando a subestimação das incertezas o valor de $\\chi^2_{red}$ fica artificialmente maior que 1 e o contrário também é verdade, incertezas superestimadas levam a um reduzido valor de $\\chi^2_{red}$. O último caso é sempre o sintoma de superestimação de incertezas. No entanto, quando $\\chi^2_{red}$>>1 nem sempre o problema é de subestimação de incertezas, mas pode ser que a função ajustada (ou modelo) não é adequado para descrever os dados experimentais (por exemplo, usar uma reta em dados que seriam melhor descritos por um polinômio do segundo grau). Não existe uma única forma para se calcular o $\\chi^2_{red}$ com o **statsmodel**, mas podemos usar o **numpy** com os resultados do _WLS_ :"
   ]
  },
  {
   "cell_type": "code",
   "execution_count": 31,
   "metadata": {},
   "outputs": [
    {
     "name": "stdout",
     "output_type": "stream",
     "text": [
      "103442.07363579505\n"
     ]
    },
    {
     "data": {
      "text/plain": [
       "np.float64(6084.827860929121)"
      ]
     },
     "execution_count": 31,
     "metadata": {},
     "output_type": "execute_result"
    }
   ],
   "source": [
    "#calulando chi^2_red\n",
    "invpars = fitpars.iloc[1],fitpars.iloc[0]\n",
    "yhat = np.polyval(invpars, z)\n",
    "chi_squared = np.sum(((yhat - y)/incytransf) ** 2)\n",
    "print(chi_squared)\n",
    "chi2_red = chi_squared/(len(z)-2)\n",
    "chi2_red"
   ]
  },
  {
   "cell_type": "markdown",
   "metadata": {},
   "source": [
    "### 2. Valor de $R^2$\n",
    " O $R^2$ é simplesmente o quadrado do coeficiente de correlação. O coeficiente de correlação, geralmente denotado por $\\rho$ (também conhecido como [coeficiente de correlação de Pearson](https://pt.wikipedia.org/wiki/Coeficiente_de_correla%C3%A7%C3%A3o_de_Pearson)). Como o valor de $\\rho$ é limitado\n",
    " $$-1<\\rho<1$$\n",
    " o valor de $R^2$ quadrado também será limitado ($0<R^2<1$), interpretando-se a qualidade do ajuste como sendo tão melhor quanto mais próxima de 1. No entanto, esse é um equívoco, pois assim como $\\rho$, $R^2$ dá uma medida da intensidade da correlação entre os valores $x$ e $y$ dos pontos experimentais. Se o ajuste de reta proposto tiver um coeficiente angular com valor muito baixo comparado ao do coeficiente linear combinado com flutuações dos pontos moderadas (pouco mais de 1%) o valor de $R^2$ pode facilmente cair abaixo de 0.5, o que levaria à uma conclusão possivelmente errônea de má qualidade de ajuste (ou de modelo). Por outro lado, um conjunto de pontos levemente não linear (tipo $x^{3/2}$) pode ser ajustado por uma reta com $R^2$>0.9, indicando erroneamente que o ajuste é bom.\n",
    "**Portanto deve-se evitar $R^2$ como única medida de qualidade de ajuste.**\n",
    "\n",
    "O **statsmodels** tem uma forma bem simples de se obter o $R^2$ a partir dos resultados do ajuste via _WLS_ :\n"
   ]
  },
  {
   "cell_type": "code",
   "execution_count": 32,
   "metadata": {},
   "outputs": [
    {
     "data": {
      "text/plain": [
       "np.float64(0.992)"
      ]
     },
     "execution_count": 32,
     "metadata": {},
     "output_type": "execute_result"
    }
   ],
   "source": [
    "np.round(result_rlw.rsquared,3)"
   ]
  },
  {
   "cell_type": "markdown",
   "metadata": {},
   "source": [
    "### 3. Gráfico de resíduos\n",
    "\n",
    "O gráfico de resíduos é sempre uma boa ferramenta e deve sempre que possível ser usada complementarmente a outras medidas de qualidade, principalmente quando se usa $R^2$, que jamais deve ser usado sozinho. \n",
    "Para se fazer um gráfico de ajuste faz-se um gráfico com o mesmo eixo $x$ dos dados originais, enquanto que no eixo vertical devem ser colocados os valores da diferença $(\\hat{y}-y)$, onde $\\hat{y}$ são os valores calculados para cada $x$ a partir dos parâmetros do ajuste.\n",
    "\n",
    "Um bom ajuste deverá mostrar um gráfico de resíduos com os pontos distribuídos de maneira aleatória acima e abaixo do eixo $x$. Na célula abaixo é apresentada a confecção de um gráfico de resíduos. Os dados usados neste exemplo _parecem_ razoáveis."
   ]
  },
  {
   "cell_type": "code",
   "execution_count": 33,
   "metadata": {},
   "outputs": [
    {
     "data": {
      "text/plain": [
       "<matplotlib.lines.Line2D at 0x7cfccf52d590>"
      ]
     },
     "execution_count": 33,
     "metadata": {},
     "output_type": "execute_result"
    },
    {
     "data": {
      "image/png": "[encoded data removed]",
      "text/plain": [
       "<Figure size 640x480 with 1 Axes>"
      ]
     },
     "metadata": {},
     "output_type": "display_data"
    }
   ],
   "source": [
    "resid = (yhat - y)\n",
    "plt.plot(z, resid, 'or')\n",
    "plt.title(\"Gráfico de resíduos\")\n",
    "plt.xlabel(\"1/Comprimento (1/m)\")\n",
    "plt.ylabel(\"Resíduos\")\n",
    "plt.axhline(y=0, color='k', linestyle='-')"
   ]
  },
  {
   "cell_type": "markdown",
   "metadata": {},
   "source": [
    "## Valor de Frequencia de ressonância\n",
    "A frequência de ressonância é dada quando a reatância indutiva é igual a reatância capacitiva, ou seja, quando $X_L = X_C$. Portanto, temos que:\n",
    "$$ \\omega_0 = \\frac{1}{\\sqrt{LC}}$$\n",
    "onde $L$ é a indutância e $C$ é a capacitância. Portanto, a frequência de ressonância é dada por:\n",
    "$$ f_0 = \\frac{1}{2\\pi\\sqrt{LC}}$$\n",
    "onde $f_0$ é a frequência de ressonância, $L$ é a indutância e $C$ é a capacitância.\n"
   ]
  },
  {
   "cell_type": "code",
   "execution_count": 34,
   "metadata": {},
   "outputs": [
    {
     "name": "stdout",
     "output_type": "stream",
     "text": [
      "a= 25416.20125985807 +- 896.7796220137972\n",
      "V= 3.0 +- 0.1\n",
      "A= 1.0386890710931253e-06 +- 3.6128315516282615e-09\n",
      "rho= [np.float64(1.2260161073719704e-10)] +- [np.float64(5.9662464364317454e-12)]\n"
     ]
    }
   ],
   "source": [
    "a = p_0\n",
    "s_a = s_p_0\n",
    "\n",
    "V = 3.0\n",
    "s_V = 0.1\n",
    "\n",
    "A = np.pi * ((1.15 * 10**(-3))/2)**2\n",
    "s_A = abs((A * 2 * (0.001* 10**(-3)))/((1.15 * 10**(-3))/2))\n",
    "\n",
    "\n",
    "print(\"a=\",a,\"+-\",s_a)\n",
    "print(\"V=\",V,\"+-\",s_V)\n",
    "print(\"A=\",A,\"+-\",s_A)\n",
    "\n",
    "#calculo da resistividade\n",
    "rho.append( (V * A) / a)\n",
    "s_rho.append( np.sqrt(((((V/a))*s_A)**2) + (((-(V/(a**2))*A)*s_a)**2) + (((A/a)*s_V)**2) ))\n",
    "\n",
    "print(\"rho=\",rho,\"+-\",s_rho)"
   ]
  },
  {
   "cell_type": "markdown",
   "metadata": {},
   "source": [
    "#Frequncia de ressonância\n",
    "\n",
    "A frequência de ressonância é dada quando a reatância indutiva é igual a reatância capacitiva, ou seja, quando $X_L = X_C$. Portanto, temos que:\n",
    "\n",
    "$$ X_L = \\frac{V_L}{I} = \\frac{f * a_l}{I} $$\n",
    "$$ X_C = \\frac{V_C}{I} = \\frac{a_c}{fI} $$\n",
    "\n",
    "$$ \\frac{f* a_l}{I} = \\frac{a_c}{fI}  \\rightarrow f^2 = \\frac{a_c}{a_l} \\rightarrow f = \\sqrt{\\frac{a_c}{a_l}}$$"
   ]
  },
  {
   "cell_type": "code",
   "execution_count": 35,
   "metadata": {},
   "outputs": [
    {
     "name": "stdout",
     "output_type": "stream",
     "text": [
      "f= 1571.3377112987691 +- 1.3964388352993791e-05\n"
     ]
    }
   ],
   "source": [
    "aC = p_0\n",
    "s_aC = s_p_0\n",
    "\n",
    "f = np.sqrt(aC/aL)\n",
    "s_f = np.sqrt(((1 / aC) / (2 * np.sqrt(aL / aC)) * s_aL)**2 + ((-aL / (2 * np.sqrt(aL / aC))) / (aC ** 2) * s_aC)**2)\n",
    "print(\"f=\",f,\"+-\",s_f)"
   ]
  },
  {
   "cell_type": "markdown",
   "metadata": {},
   "source": [
    "## Referências\n",
    "\n",
    "1. Principios de Física - Volume 2,  Raymond A. Serway, John W. Jewett, Jr., Tradução da 5$^a$ Edição Norte-Americana, 2015 (ISBN-10:85-221-1637-7)\n",
    "2. Fundamentos da Teoria dos Erros, José Henrique Vuolo, 2$^a$ edição, Editora Edgar Blücher, 1996 (ISBN: 85-212-0056-0)"
   ]
  }
 ],
 "metadata": {
  "kernelspec": {
   "display_name": "Python 3",
   "language": "python",
   "name": "python3"
  },
  "language_info": {
   "codemirror_mode": {
    "name": "ipython",
    "version": 3
   },
   "file_extension": ".py",
   "mimetype": "text/x-python",
   "name": "python",
   "nbconvert_exporter": "python",
   "pygments_lexer": "ipython3",
   "version": "3.13.3"
  }
 },
 "nbformat": 4,
 "nbformat_minor": 4
}
